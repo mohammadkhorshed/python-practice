{
 "cells": [
  {
   "cell_type": "markdown",
   "id": "55bd4964",
   "metadata": {},
   "source": [
    "# Seaborn Learing\n",
    "\n",
    "🧠 This notebook was created by my as a part of learning `Seaborn with CampusX`.\n",
    "\n",
    "✅ The problems were solved through my own efforts.\n"
   ]
  },
  {
   "cell_type": "markdown",
   "id": "c5f603ec",
   "metadata": {},
   "source": []
  }
 ],
 "metadata": {
  "language_info": {
   "name": "python"
  }
 },
 "nbformat": 4,
 "nbformat_minor": 5
}
