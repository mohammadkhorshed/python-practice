{
 "cells": [
  {
   "cell_type": "markdown",
   "id": "609a1411",
   "metadata": {},
   "source": [
    "# 🐼 Python Pandas Practice Exercises\n",
    "- Learnning and mastering Python's powerful data manipulation library — Pandas.\n",
    "\n",
    "- This notebook contains a series of progressively challenging exercises (with real-world context) to help you become a Pandas pro."
   ]
  },
  {
   "cell_type": "markdown",
   "id": "9134a643",
   "metadata": {},
   "source": [
    "\n",
    "## 📘 Instructions followed:\n",
    "- Read the problem description carefully.\n",
    "- Tried to solve the exercises using **Pythonic and efficient Pandas operations**.\n",
    "- Did **not** use any external libraries unless specified.\n",
    "\n",
    "Let's begin!\n"
   ]
  },
  {
   "cell_type": "markdown",
   "id": "dda1e597",
   "metadata": {},
   "source": [
    "### 1. Create a Pandas Series from a Python list `[10, 20, 30, 40, 50]`."
   ]
  },
  {
   "cell_type": "code",
   "execution_count": null,
   "id": "fe437bbf",
   "metadata": {
    "vscode": {
     "languageId": "plaintext"
    }
   },
   "outputs": [],
   "source": []
  },
  {
   "cell_type": "markdown",
   "id": "a85388e1",
   "metadata": {},
   "source": [
    "### 2. Create a Series with custom index labels using `[100, 200, 300]` and labels `['a', 'b', 'c']`."
   ]
  },
  {
   "cell_type": "code",
   "execution_count": null,
   "id": "d634ada3",
   "metadata": {
    "vscode": {
     "languageId": "plaintext"
    }
   },
   "outputs": [],
   "source": []
  },
  {
   "cell_type": "markdown",
   "id": "a60a7727",
   "metadata": {},
   "source": [
    "### 3. Retrieve the 2nd and 3rd elements from a Series."
   ]
  },
  {
   "cell_type": "code",
   "execution_count": null,
   "id": "2593b22c",
   "metadata": {
    "vscode": {
     "languageId": "plaintext"
    }
   },
   "outputs": [],
   "source": []
  },
  {
   "cell_type": "markdown",
   "id": "e5121231",
   "metadata": {},
   "source": [
    "### 4. Add two Series element-wise."
   ]
  },
  {
   "cell_type": "code",
   "execution_count": null,
   "id": "0138958d",
   "metadata": {
    "vscode": {
     "languageId": "plaintext"
    }
   },
   "outputs": [],
   "source": []
  },
  {
   "cell_type": "markdown",
   "id": "64738293",
   "metadata": {},
   "source": [
    "### 5. Apply a lambda function to square each element of a numeric Series."
   ]
  },
  {
   "cell_type": "code",
   "execution_count": null,
   "id": "77b6f935",
   "metadata": {
    "vscode": {
     "languageId": "plaintext"
    }
   },
   "outputs": [],
   "source": []
  },
  {
   "cell_type": "markdown",
   "id": "d0102ba6",
   "metadata": {},
   "source": [
    "### 6. Create a Pandas DataFrame from a dictionary with columns: Name, Age, and City."
   ]
  },
  {
   "cell_type": "code",
   "execution_count": null,
   "id": "4a8bab1f",
   "metadata": {
    "vscode": {
     "languageId": "plaintext"
    }
   },
   "outputs": [],
   "source": []
  },
  {
   "cell_type": "markdown",
   "id": "a914e201",
   "metadata": {},
   "source": [
    "### 7. Retrieve the first 3 rows of a DataFrame."
   ]
  },
  {
   "cell_type": "code",
   "execution_count": null,
   "id": "8a3dea29",
   "metadata": {
    "vscode": {
     "languageId": "plaintext"
    }
   },
   "outputs": [],
   "source": []
  },
  {
   "cell_type": "markdown",
   "id": "3bbc1383",
   "metadata": {},
   "source": [
    "### 8. Select only the 'Name' and 'City' columns from the DataFrame."
   ]
  },
  {
   "cell_type": "code",
   "execution_count": null,
   "id": "d9702970",
   "metadata": {
    "vscode": {
     "languageId": "plaintext"
    }
   },
   "outputs": [],
   "source": []
  },
  {
   "cell_type": "markdown",
   "id": "2dc0f465",
   "metadata": {},
   "source": [
    "### 9. Filter all rows where age is above 30."
   ]
  },
  {
   "cell_type": "code",
   "execution_count": null,
   "id": "41e1705f",
   "metadata": {
    "vscode": {
     "languageId": "plaintext"
    }
   },
   "outputs": [],
   "source": []
  },
  {
   "cell_type": "markdown",
   "id": "b30b5522",
   "metadata": {},
   "source": [
    "### 10. Add a new column 'Salary' with values `[50000, 60000, 70000]`."
   ]
  },
  {
   "cell_type": "code",
   "execution_count": null,
   "id": "90383ca4",
   "metadata": {
    "vscode": {
     "languageId": "plaintext"
    }
   },
   "outputs": [],
   "source": []
  },
  {
   "cell_type": "markdown",
   "id": "c8266add",
   "metadata": {},
   "source": [
    "### 11. Sort the DataFrame by 'Age' in descending order."
   ]
  },
  {
   "cell_type": "code",
   "execution_count": null,
   "id": "1b4137d2",
   "metadata": {
    "vscode": {
     "languageId": "plaintext"
    }
   },
   "outputs": [],
   "source": []
  },
  {
   "cell_type": "markdown",
   "id": "5f70bf9a",
   "metadata": {},
   "source": [
    "### 12. Reset the index of a DataFrame."
   ]
  },
  {
   "cell_type": "code",
   "execution_count": null,
   "id": "4ee8a786",
   "metadata": {
    "vscode": {
     "languageId": "plaintext"
    }
   },
   "outputs": [],
   "source": []
  },
  {
   "cell_type": "markdown",
   "id": "c7828b6a",
   "metadata": {},
   "source": [
    "### 13. Set the 'Name' column as index."
   ]
  },
  {
   "cell_type": "code",
   "execution_count": null,
   "id": "e5cb584e",
   "metadata": {
    "vscode": {
     "languageId": "plaintext"
    }
   },
   "outputs": [],
   "source": []
  },
  {
   "cell_type": "markdown",
   "id": "ea099ee6",
   "metadata": {},
   "source": [
    "### 14. Filter rows where 'City' is either 'New York' or 'Los Angeles'."
   ]
  },
  {
   "cell_type": "code",
   "execution_count": null,
   "id": "458688c4",
   "metadata": {
    "vscode": {
     "languageId": "plaintext"
    }
   },
   "outputs": [],
   "source": []
  },
  {
   "cell_type": "markdown",
   "id": "483d3ec3",
   "metadata": {},
   "source": [
    "### 15. Replace missing values in a DataFrame with the column mean."
   ]
  },
  {
   "cell_type": "code",
   "execution_count": null,
   "id": "301263b3",
   "metadata": {
    "vscode": {
     "languageId": "plaintext"
    }
   },
   "outputs": [],
   "source": []
  },
  {
   "cell_type": "markdown",
   "id": "9242610a",
   "metadata": {},
   "source": [
    "### 16. Group the DataFrame by 'City' and compute average 'Salary'."
   ]
  },
  {
   "cell_type": "code",
   "execution_count": null,
   "id": "ed447952",
   "metadata": {
    "vscode": {
     "languageId": "plaintext"
    }
   },
   "outputs": [],
   "source": []
  },
  {
   "cell_type": "code",
   "execution_count": null,
   "id": "b3b07245",
   "metadata": {
    "vscode": {
     "languageId": "plaintext"
    }
   },
   "outputs": [],
   "source": []
  },
  {
   "cell_type": "code",
   "execution_count": null,
   "id": "30ae1add",
   "metadata": {
    "vscode": {
     "languageId": "plaintext"
    }
   },
   "outputs": [],
   "source": []
  },
  {
   "cell_type": "markdown",
   "id": "9cc874df",
   "metadata": {},
   "source": [
    "### 17. Use `apply()` to calculate the length of each name in 'Name' column."
   ]
  },
  {
   "cell_type": "code",
   "execution_count": null,
   "id": "41a4d124",
   "metadata": {
    "vscode": {
     "languageId": "plaintext"
    }
   },
   "outputs": [],
   "source": []
  },
  {
   "cell_type": "markdown",
   "id": "19cb7d6c",
   "metadata": {},
   "source": [
    "### 18. Add a new column 'Tax' that is 10% of the Salary using `apply()`."
   ]
  },
  {
   "cell_type": "code",
   "execution_count": null,
   "id": "63bcf7c0",
   "metadata": {
    "vscode": {
     "languageId": "plaintext"
    }
   },
   "outputs": [],
   "source": []
  },
  {
   "cell_type": "markdown",
   "id": "8446aef8",
   "metadata": {},
   "source": [
    "### 19. Filter groups with more than 1 entry using `groupby`."
   ]
  },
  {
   "cell_type": "code",
   "execution_count": null,
   "id": "65bad0bf",
   "metadata": {
    "vscode": {
     "languageId": "plaintext"
    }
   },
   "outputs": [],
   "source": []
  },
  {
   "cell_type": "markdown",
   "id": "82fdc6cb",
   "metadata": {},
   "source": [
    "### 20. Create a pivot table of average Salary by City and Age."
   ]
  },
  {
   "cell_type": "code",
   "execution_count": null,
   "id": "72bd8448",
   "metadata": {
    "vscode": {
     "languageId": "plaintext"
    }
   },
   "outputs": [],
   "source": []
  },
  {
   "cell_type": "markdown",
   "id": "74eb3ab8",
   "metadata": {},
   "source": [
    "### 21. Merge two DataFrames on a common column 'ID'."
   ]
  },
  {
   "cell_type": "code",
   "execution_count": null,
   "id": "02d20b41",
   "metadata": {
    "vscode": {
     "languageId": "plaintext"
    }
   },
   "outputs": [],
   "source": []
  },
  {
   "cell_type": "markdown",
   "id": "2ac35577",
   "metadata": {},
   "source": [
    "### 22. Perform a left join using Pandas."
   ]
  },
  {
   "cell_type": "code",
   "execution_count": null,
   "id": "28abd9ca",
   "metadata": {
    "vscode": {
     "languageId": "plaintext"
    }
   },
   "outputs": [],
   "source": []
  },
  {
   "cell_type": "markdown",
   "id": "bde9c4f2",
   "metadata": {},
   "source": [
    "### 23. Concatenate two DataFrames vertically (stack rows)."
   ]
  },
  {
   "cell_type": "code",
   "execution_count": null,
   "id": "a6f318a7",
   "metadata": {
    "vscode": {
     "languageId": "plaintext"
    }
   },
   "outputs": [],
   "source": []
  },
  {
   "cell_type": "markdown",
   "id": "4ec7d1b0",
   "metadata": {},
   "source": [
    "### 24. Concatenate two DataFrames horizontally (side-by-side)."
   ]
  },
  {
   "cell_type": "code",
   "execution_count": null,
   "id": "18bb86d8",
   "metadata": {
    "vscode": {
     "languageId": "plaintext"
    }
   },
   "outputs": [],
   "source": []
  },
  {
   "cell_type": "markdown",
   "id": "dbb9ea4b",
   "metadata": {},
   "source": [
    "### 25. Join two DataFrames with different column names but similar data using `left_on` and `right_on`."
   ]
  },
  {
   "cell_type": "code",
   "execution_count": null,
   "id": "fa24efc7",
   "metadata": {
    "vscode": {
     "languageId": "plaintext"
    }
   },
   "outputs": [],
   "source": []
  },
  {
   "cell_type": "markdown",
   "id": "c2787a00",
   "metadata": {},
   "source": [
    "### 26. Load a CSV file into a Pandas DataFrame (e.g., 'sales.csv')."
   ]
  },
  {
   "cell_type": "code",
   "execution_count": null,
   "id": "89e4c36d",
   "metadata": {
    "vscode": {
     "languageId": "plaintext"
    }
   },
   "outputs": [],
   "source": []
  },
  {
   "cell_type": "markdown",
   "id": "82e94d44",
   "metadata": {},
   "source": [
    "### 27. Find top 5 products with highest total sales from the sales data."
   ]
  },
  {
   "cell_type": "code",
   "execution_count": null,
   "id": "38ca8170",
   "metadata": {
    "vscode": {
     "languageId": "plaintext"
    }
   },
   "outputs": [],
   "source": []
  },
  {
   "cell_type": "markdown",
   "id": "ff59fbd0",
   "metadata": {},
   "source": [
    "### 28. Convert a date column to datetime and extract the year."
   ]
  },
  {
   "cell_type": "code",
   "execution_count": null,
   "id": "03ff7d84",
   "metadata": {
    "vscode": {
     "languageId": "plaintext"
    }
   },
   "outputs": [],
   "source": []
  },
  {
   "cell_type": "markdown",
   "id": "e9f7af3b",
   "metadata": {},
   "source": [
    "### 29. Create a rolling average column for 'Sales' with a window of 3."
   ]
  },
  {
   "cell_type": "code",
   "execution_count": null,
   "id": "9ce85903",
   "metadata": {
    "vscode": {
     "languageId": "plaintext"
    }
   },
   "outputs": [],
   "source": []
  },
  {
   "cell_type": "markdown",
   "id": "721badb5",
   "metadata": {},
   "source": [
    "### 30. Identify and drop duplicate rows based on 'Order ID'."
   ]
  },
  {
   "cell_type": "code",
   "execution_count": null,
   "id": "e8908094",
   "metadata": {
    "vscode": {
     "languageId": "plaintext"
    }
   },
   "outputs": [],
   "source": []
  }
 ],
 "metadata": {
  "language_info": {
   "name": "python"
  }
 },
 "nbformat": 4,
 "nbformat_minor": 5
}
