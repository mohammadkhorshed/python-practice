{
 "cells": [
  {
   "cell_type": "markdown",
   "id": "609a1411",
   "metadata": {},
   "source": [
    "# 🐼 Python Pandas Practice Exercises\n",
    "- Learnning and mastering Python's powerful data manipulation library — Pandas.\n",
    "\n",
    "- This notebook contains a series of progressively challenging exercises (with real-world context) to help you become a Pandas pro."
   ]
  },
  {
   "cell_type": "markdown",
   "id": "9134a643",
   "metadata": {},
   "source": [
    "\n",
    "## 📘 Instructions followed:\n",
    "- Read the problem description carefully.\n",
    "- Tried to solve the exercises using **Pythonic and efficient Pandas operations**.\n",
    "- Did **not** use any external libraries unless specified.\n",
    "\n",
    "Let's begin!\n"
   ]
  },
  {
   "cell_type": "markdown",
   "id": "dda1e597",
   "metadata": {},
   "source": [
    "### 1. Create a Pandas Series from a Python list `[10, 20, 30, 40, 50]`."
   ]
  },
  {
   "cell_type": "code",
   "execution_count": 1,
   "id": "fe437bbf",
   "metadata": {},
   "outputs": [
    {
     "data": {
      "text/plain": [
       "0    10\n",
       "1    20\n",
       "2    30\n",
       "3    40\n",
       "4    50\n",
       "dtype: int64"
      ]
     },
     "execution_count": 1,
     "metadata": {},
     "output_type": "execute_result"
    }
   ],
   "source": [
    "import pandas as pd\n",
    "\n",
    "li = [10, 20, 30, 40, 50]\n",
    "ps = pd.Series(li)\n",
    "ps\n"
   ]
  },
  {
   "cell_type": "markdown",
   "id": "a85388e1",
   "metadata": {},
   "source": [
    "### 2. Create a Series with custom index labels using `[100, 200, 300]` and labels `['a', 'b', 'c']`."
   ]
  },
  {
   "cell_type": "code",
   "execution_count": 2,
   "id": "d634ada3",
   "metadata": {},
   "outputs": [
    {
     "data": {
      "text/plain": [
       "a    100\n",
       "b    200\n",
       "c    300\n",
       "dtype: int64"
      ]
     },
     "execution_count": 2,
     "metadata": {},
     "output_type": "execute_result"
    }
   ],
   "source": [
    "ps = pd.Series([100, 200, 300], index=['a', 'b', 'c'])\n",
    "ps"
   ]
  },
  {
   "cell_type": "markdown",
   "id": "a60a7727",
   "metadata": {},
   "source": [
    "### 3. Retrieve the 2nd and 3rd elements from a Series."
   ]
  },
  {
   "cell_type": "code",
   "execution_count": 5,
   "id": "2593b22c",
   "metadata": {},
   "outputs": [
    {
     "data": {
      "text/plain": [
       "b    200\n",
       "c    300\n",
       "dtype: int64"
      ]
     },
     "execution_count": 5,
     "metadata": {},
     "output_type": "execute_result"
    }
   ],
   "source": [
    "ps.iloc[[1, 2]]"
   ]
  },
  {
   "cell_type": "markdown",
   "id": "e5121231",
   "metadata": {},
   "source": [
    "### 4. Add two Series element-wise."
   ]
  },
  {
   "cell_type": "code",
   "execution_count": 6,
   "id": "0138958d",
   "metadata": {},
   "outputs": [
    {
     "data": {
      "text/plain": [
       "0    5\n",
       "1    7\n",
       "2    9\n",
       "dtype: int64"
      ]
     },
     "execution_count": 6,
     "metadata": {},
     "output_type": "execute_result"
    }
   ],
   "source": [
    "ps1 = pd.Series([1, 2, 3])\n",
    "ps2 = pd.Series([4, 5, 6])\n",
    "added_ps = ps1 + ps2\n",
    "added_ps"
   ]
  },
  {
   "cell_type": "markdown",
   "id": "64738293",
   "metadata": {},
   "source": [
    "### 5. Apply a lambda function to square each element of a numeric Series."
   ]
  },
  {
   "cell_type": "code",
   "execution_count": 10,
   "id": "77b6f935",
   "metadata": {},
   "outputs": [
    {
     "data": {
      "text/plain": [
       "0    1\n",
       "1    4\n",
       "2    9\n",
       "dtype: int64"
      ]
     },
     "execution_count": 10,
     "metadata": {},
     "output_type": "execute_result"
    }
   ],
   "source": [
    "ps = pd.Series([1, 2, 3])\n",
    "squared  = ps.apply(lambda x: x ** 2)\n",
    "squared"
   ]
  },
  {
   "cell_type": "markdown",
   "id": "d0102ba6",
   "metadata": {},
   "source": [
    "### 6. Create a Pandas DataFrame from a dictionary with columns: Name, Age, and City."
   ]
  },
  {
   "cell_type": "code",
   "execution_count": 29,
   "id": "4a8bab1f",
   "metadata": {},
   "outputs": [
    {
     "data": {
      "text/html": [
       "<div>\n",
       "<style scoped>\n",
       "    .dataframe tbody tr th:only-of-type {\n",
       "        vertical-align: middle;\n",
       "    }\n",
       "\n",
       "    .dataframe tbody tr th {\n",
       "        vertical-align: top;\n",
       "    }\n",
       "\n",
       "    .dataframe thead th {\n",
       "        text-align: right;\n",
       "    }\n",
       "</style>\n",
       "<table border=\"1\" class=\"dataframe\">\n",
       "  <thead>\n",
       "    <tr style=\"text-align: right;\">\n",
       "      <th></th>\n",
       "      <th>name</th>\n",
       "      <th>age</th>\n",
       "      <th>city</th>\n",
       "    </tr>\n",
       "  </thead>\n",
       "  <tbody>\n",
       "    <tr>\n",
       "      <th>0</th>\n",
       "      <td>Asif</td>\n",
       "      <td>19.0</td>\n",
       "      <td>shylet</td>\n",
       "    </tr>\n",
       "    <tr>\n",
       "      <th>1</th>\n",
       "      <td>Babu</td>\n",
       "      <td>27.0</td>\n",
       "      <td>noakhali</td>\n",
       "    </tr>\n",
       "    <tr>\n",
       "      <th>2</th>\n",
       "      <td>Emon</td>\n",
       "      <td>23.0</td>\n",
       "      <td>rajshahi</td>\n",
       "    </tr>\n",
       "    <tr>\n",
       "      <th>3</th>\n",
       "      <td>Hassan</td>\n",
       "      <td>30.0</td>\n",
       "      <td>barishal</td>\n",
       "    </tr>\n",
       "    <tr>\n",
       "      <th>4</th>\n",
       "      <td>Mazid</td>\n",
       "      <td>17.0</td>\n",
       "      <td>chattogram</td>\n",
       "    </tr>\n",
       "    <tr>\n",
       "      <th>5</th>\n",
       "      <td>Shiraj</td>\n",
       "      <td>NaN</td>\n",
       "      <td>rangpur</td>\n",
       "    </tr>\n",
       "  </tbody>\n",
       "</table>\n",
       "</div>"
      ],
      "text/plain": [
       "     name   age        city\n",
       "0    Asif  19.0      shylet\n",
       "1    Babu  27.0    noakhali\n",
       "2    Emon  23.0    rajshahi\n",
       "3  Hassan  30.0    barishal\n",
       "4   Mazid  17.0  chattogram\n",
       "5  Shiraj   NaN     rangpur"
      ]
     },
     "execution_count": 29,
     "metadata": {},
     "output_type": "execute_result"
    }
   ],
   "source": [
    "people = {\n",
    "    'name': ['Asif', 'Babu', 'Emon', 'Hassan', 'Mazid', 'Shiraj'],\n",
    "    'age' : [19, 27, 23, 30, 17, None],\n",
    "    'city' : ['shylet', 'noakhali', 'rajshahi', 'barishal', 'chattogram', 'rangpur']\n",
    "}\n",
    "\n",
    "df = pd.DataFrame(people)\n",
    "df"
   ]
  },
  {
   "cell_type": "markdown",
   "id": "a914e201",
   "metadata": {},
   "source": [
    "### 7. Retrieve the first 3 rows of a DataFrame."
   ]
  },
  {
   "cell_type": "code",
   "execution_count": 12,
   "id": "8a3dea29",
   "metadata": {},
   "outputs": [
    {
     "data": {
      "text/html": [
       "<div>\n",
       "<style scoped>\n",
       "    .dataframe tbody tr th:only-of-type {\n",
       "        vertical-align: middle;\n",
       "    }\n",
       "\n",
       "    .dataframe tbody tr th {\n",
       "        vertical-align: top;\n",
       "    }\n",
       "\n",
       "    .dataframe thead th {\n",
       "        text-align: right;\n",
       "    }\n",
       "</style>\n",
       "<table border=\"1\" class=\"dataframe\">\n",
       "  <thead>\n",
       "    <tr style=\"text-align: right;\">\n",
       "      <th></th>\n",
       "      <th>name</th>\n",
       "      <th>age</th>\n",
       "      <th>city</th>\n",
       "    </tr>\n",
       "  </thead>\n",
       "  <tbody>\n",
       "    <tr>\n",
       "      <th>0</th>\n",
       "      <td>Asif</td>\n",
       "      <td>19</td>\n",
       "      <td>shylet</td>\n",
       "    </tr>\n",
       "    <tr>\n",
       "      <th>1</th>\n",
       "      <td>Babu</td>\n",
       "      <td>27</td>\n",
       "      <td>noakhali</td>\n",
       "    </tr>\n",
       "    <tr>\n",
       "      <th>2</th>\n",
       "      <td>Emon</td>\n",
       "      <td>23</td>\n",
       "      <td>rajshahi</td>\n",
       "    </tr>\n",
       "  </tbody>\n",
       "</table>\n",
       "</div>"
      ],
      "text/plain": [
       "   name  age      city\n",
       "0  Asif   19    shylet\n",
       "1  Babu   27  noakhali\n",
       "2  Emon   23  rajshahi"
      ]
     },
     "execution_count": 12,
     "metadata": {},
     "output_type": "execute_result"
    }
   ],
   "source": [
    "df.iloc[:3]"
   ]
  },
  {
   "cell_type": "markdown",
   "id": "3bbc1383",
   "metadata": {},
   "source": [
    "### 8. Select only the 'Name' and 'City' columns from the DataFrame."
   ]
  },
  {
   "cell_type": "code",
   "execution_count": 13,
   "id": "d9702970",
   "metadata": {},
   "outputs": [
    {
     "data": {
      "text/html": [
       "<div>\n",
       "<style scoped>\n",
       "    .dataframe tbody tr th:only-of-type {\n",
       "        vertical-align: middle;\n",
       "    }\n",
       "\n",
       "    .dataframe tbody tr th {\n",
       "        vertical-align: top;\n",
       "    }\n",
       "\n",
       "    .dataframe thead th {\n",
       "        text-align: right;\n",
       "    }\n",
       "</style>\n",
       "<table border=\"1\" class=\"dataframe\">\n",
       "  <thead>\n",
       "    <tr style=\"text-align: right;\">\n",
       "      <th></th>\n",
       "      <th>name</th>\n",
       "      <th>city</th>\n",
       "    </tr>\n",
       "  </thead>\n",
       "  <tbody>\n",
       "    <tr>\n",
       "      <th>0</th>\n",
       "      <td>Asif</td>\n",
       "      <td>shylet</td>\n",
       "    </tr>\n",
       "    <tr>\n",
       "      <th>1</th>\n",
       "      <td>Babu</td>\n",
       "      <td>noakhali</td>\n",
       "    </tr>\n",
       "    <tr>\n",
       "      <th>2</th>\n",
       "      <td>Emon</td>\n",
       "      <td>rajshahi</td>\n",
       "    </tr>\n",
       "    <tr>\n",
       "      <th>3</th>\n",
       "      <td>Hassan</td>\n",
       "      <td>barishal</td>\n",
       "    </tr>\n",
       "    <tr>\n",
       "      <th>4</th>\n",
       "      <td>Mazid</td>\n",
       "      <td>chattogram</td>\n",
       "    </tr>\n",
       "  </tbody>\n",
       "</table>\n",
       "</div>"
      ],
      "text/plain": [
       "     name        city\n",
       "0    Asif      shylet\n",
       "1    Babu    noakhali\n",
       "2    Emon    rajshahi\n",
       "3  Hassan    barishal\n",
       "4   Mazid  chattogram"
      ]
     },
     "execution_count": 13,
     "metadata": {},
     "output_type": "execute_result"
    }
   ],
   "source": [
    "df[['name', 'city']]"
   ]
  },
  {
   "cell_type": "markdown",
   "id": "2dc0f465",
   "metadata": {},
   "source": [
    "### 9. Filter all rows where age is above 25."
   ]
  },
  {
   "cell_type": "code",
   "execution_count": 14,
   "id": "41e1705f",
   "metadata": {},
   "outputs": [
    {
     "data": {
      "text/html": [
       "<div>\n",
       "<style scoped>\n",
       "    .dataframe tbody tr th:only-of-type {\n",
       "        vertical-align: middle;\n",
       "    }\n",
       "\n",
       "    .dataframe tbody tr th {\n",
       "        vertical-align: top;\n",
       "    }\n",
       "\n",
       "    .dataframe thead th {\n",
       "        text-align: right;\n",
       "    }\n",
       "</style>\n",
       "<table border=\"1\" class=\"dataframe\">\n",
       "  <thead>\n",
       "    <tr style=\"text-align: right;\">\n",
       "      <th></th>\n",
       "      <th>name</th>\n",
       "      <th>age</th>\n",
       "      <th>city</th>\n",
       "    </tr>\n",
       "  </thead>\n",
       "  <tbody>\n",
       "    <tr>\n",
       "      <th>1</th>\n",
       "      <td>Babu</td>\n",
       "      <td>27</td>\n",
       "      <td>noakhali</td>\n",
       "    </tr>\n",
       "    <tr>\n",
       "      <th>3</th>\n",
       "      <td>Hassan</td>\n",
       "      <td>30</td>\n",
       "      <td>barishal</td>\n",
       "    </tr>\n",
       "  </tbody>\n",
       "</table>\n",
       "</div>"
      ],
      "text/plain": [
       "     name  age      city\n",
       "1    Babu   27  noakhali\n",
       "3  Hassan   30  barishal"
      ]
     },
     "execution_count": 14,
     "metadata": {},
     "output_type": "execute_result"
    }
   ],
   "source": [
    "df[df['age'] > 25]"
   ]
  },
  {
   "cell_type": "markdown",
   "id": "b30b5522",
   "metadata": {},
   "source": [
    "### 10. Add a new column 'Salary' with values `[50000, 60000, 70000]`."
   ]
  },
  {
   "cell_type": "code",
   "execution_count": 30,
   "id": "90383ca4",
   "metadata": {},
   "outputs": [
    {
     "data": {
      "text/html": [
       "<div>\n",
       "<style scoped>\n",
       "    .dataframe tbody tr th:only-of-type {\n",
       "        vertical-align: middle;\n",
       "    }\n",
       "\n",
       "    .dataframe tbody tr th {\n",
       "        vertical-align: top;\n",
       "    }\n",
       "\n",
       "    .dataframe thead th {\n",
       "        text-align: right;\n",
       "    }\n",
       "</style>\n",
       "<table border=\"1\" class=\"dataframe\">\n",
       "  <thead>\n",
       "    <tr style=\"text-align: right;\">\n",
       "      <th></th>\n",
       "      <th>name</th>\n",
       "      <th>age</th>\n",
       "      <th>city</th>\n",
       "      <th>salary</th>\n",
       "    </tr>\n",
       "  </thead>\n",
       "  <tbody>\n",
       "    <tr>\n",
       "      <th>0</th>\n",
       "      <td>Asif</td>\n",
       "      <td>19.0</td>\n",
       "      <td>shylet</td>\n",
       "      <td>50000.0</td>\n",
       "    </tr>\n",
       "    <tr>\n",
       "      <th>1</th>\n",
       "      <td>Babu</td>\n",
       "      <td>27.0</td>\n",
       "      <td>noakhali</td>\n",
       "      <td>60000.0</td>\n",
       "    </tr>\n",
       "    <tr>\n",
       "      <th>2</th>\n",
       "      <td>Emon</td>\n",
       "      <td>23.0</td>\n",
       "      <td>rajshahi</td>\n",
       "      <td>70000.0</td>\n",
       "    </tr>\n",
       "    <tr>\n",
       "      <th>3</th>\n",
       "      <td>Hassan</td>\n",
       "      <td>30.0</td>\n",
       "      <td>barishal</td>\n",
       "      <td>80000.0</td>\n",
       "    </tr>\n",
       "    <tr>\n",
       "      <th>4</th>\n",
       "      <td>Mazid</td>\n",
       "      <td>17.0</td>\n",
       "      <td>chattogram</td>\n",
       "      <td>20000.0</td>\n",
       "    </tr>\n",
       "    <tr>\n",
       "      <th>5</th>\n",
       "      <td>Shiraj</td>\n",
       "      <td>NaN</td>\n",
       "      <td>rangpur</td>\n",
       "      <td>NaN</td>\n",
       "    </tr>\n",
       "  </tbody>\n",
       "</table>\n",
       "</div>"
      ],
      "text/plain": [
       "     name   age        city   salary\n",
       "0    Asif  19.0      shylet  50000.0\n",
       "1    Babu  27.0    noakhali  60000.0\n",
       "2    Emon  23.0    rajshahi  70000.0\n",
       "3  Hassan  30.0    barishal  80000.0\n",
       "4   Mazid  17.0  chattogram  20000.0\n",
       "5  Shiraj   NaN     rangpur      NaN"
      ]
     },
     "execution_count": 30,
     "metadata": {},
     "output_type": "execute_result"
    }
   ],
   "source": [
    "salary = [50000, 60000, 70000, 80000, 20000, None]\n",
    "df['salary'] = salary\n",
    "df"
   ]
  },
  {
   "cell_type": "markdown",
   "id": "c8266add",
   "metadata": {},
   "source": [
    "### 11. Sort the DataFrame by 'Age' in descending order."
   ]
  },
  {
   "cell_type": "code",
   "execution_count": 16,
   "id": "1b4137d2",
   "metadata": {},
   "outputs": [
    {
     "data": {
      "text/html": [
       "<div>\n",
       "<style scoped>\n",
       "    .dataframe tbody tr th:only-of-type {\n",
       "        vertical-align: middle;\n",
       "    }\n",
       "\n",
       "    .dataframe tbody tr th {\n",
       "        vertical-align: top;\n",
       "    }\n",
       "\n",
       "    .dataframe thead th {\n",
       "        text-align: right;\n",
       "    }\n",
       "</style>\n",
       "<table border=\"1\" class=\"dataframe\">\n",
       "  <thead>\n",
       "    <tr style=\"text-align: right;\">\n",
       "      <th></th>\n",
       "      <th>name</th>\n",
       "      <th>age</th>\n",
       "      <th>city</th>\n",
       "      <th>salary</th>\n",
       "    </tr>\n",
       "  </thead>\n",
       "  <tbody>\n",
       "    <tr>\n",
       "      <th>4</th>\n",
       "      <td>Mazid</td>\n",
       "      <td>17</td>\n",
       "      <td>chattogram</td>\n",
       "      <td>20000</td>\n",
       "    </tr>\n",
       "    <tr>\n",
       "      <th>0</th>\n",
       "      <td>Asif</td>\n",
       "      <td>19</td>\n",
       "      <td>shylet</td>\n",
       "      <td>50000</td>\n",
       "    </tr>\n",
       "    <tr>\n",
       "      <th>2</th>\n",
       "      <td>Emon</td>\n",
       "      <td>23</td>\n",
       "      <td>rajshahi</td>\n",
       "      <td>70000</td>\n",
       "    </tr>\n",
       "    <tr>\n",
       "      <th>1</th>\n",
       "      <td>Babu</td>\n",
       "      <td>27</td>\n",
       "      <td>noakhali</td>\n",
       "      <td>60000</td>\n",
       "    </tr>\n",
       "    <tr>\n",
       "      <th>3</th>\n",
       "      <td>Hassan</td>\n",
       "      <td>30</td>\n",
       "      <td>barishal</td>\n",
       "      <td>80000</td>\n",
       "    </tr>\n",
       "  </tbody>\n",
       "</table>\n",
       "</div>"
      ],
      "text/plain": [
       "     name  age        city  salary\n",
       "4   Mazid   17  chattogram   20000\n",
       "0    Asif   19      shylet   50000\n",
       "2    Emon   23    rajshahi   70000\n",
       "1    Babu   27    noakhali   60000\n",
       "3  Hassan   30    barishal   80000"
      ]
     },
     "execution_count": 16,
     "metadata": {},
     "output_type": "execute_result"
    }
   ],
   "source": [
    "df.sort_values('age')"
   ]
  },
  {
   "cell_type": "markdown",
   "id": "5f70bf9a",
   "metadata": {},
   "source": [
    "### 12. Reset the index of a DataFrame."
   ]
  },
  {
   "cell_type": "code",
   "execution_count": 17,
   "id": "4ee8a786",
   "metadata": {},
   "outputs": [
    {
     "data": {
      "text/html": [
       "<div>\n",
       "<style scoped>\n",
       "    .dataframe tbody tr th:only-of-type {\n",
       "        vertical-align: middle;\n",
       "    }\n",
       "\n",
       "    .dataframe tbody tr th {\n",
       "        vertical-align: top;\n",
       "    }\n",
       "\n",
       "    .dataframe thead th {\n",
       "        text-align: right;\n",
       "    }\n",
       "</style>\n",
       "<table border=\"1\" class=\"dataframe\">\n",
       "  <thead>\n",
       "    <tr style=\"text-align: right;\">\n",
       "      <th></th>\n",
       "      <th>index</th>\n",
       "      <th>name</th>\n",
       "      <th>age</th>\n",
       "      <th>city</th>\n",
       "      <th>salary</th>\n",
       "    </tr>\n",
       "  </thead>\n",
       "  <tbody>\n",
       "    <tr>\n",
       "      <th>0</th>\n",
       "      <td>0</td>\n",
       "      <td>Asif</td>\n",
       "      <td>19</td>\n",
       "      <td>shylet</td>\n",
       "      <td>50000</td>\n",
       "    </tr>\n",
       "    <tr>\n",
       "      <th>1</th>\n",
       "      <td>1</td>\n",
       "      <td>Babu</td>\n",
       "      <td>27</td>\n",
       "      <td>noakhali</td>\n",
       "      <td>60000</td>\n",
       "    </tr>\n",
       "    <tr>\n",
       "      <th>2</th>\n",
       "      <td>2</td>\n",
       "      <td>Emon</td>\n",
       "      <td>23</td>\n",
       "      <td>rajshahi</td>\n",
       "      <td>70000</td>\n",
       "    </tr>\n",
       "    <tr>\n",
       "      <th>3</th>\n",
       "      <td>3</td>\n",
       "      <td>Hassan</td>\n",
       "      <td>30</td>\n",
       "      <td>barishal</td>\n",
       "      <td>80000</td>\n",
       "    </tr>\n",
       "    <tr>\n",
       "      <th>4</th>\n",
       "      <td>4</td>\n",
       "      <td>Mazid</td>\n",
       "      <td>17</td>\n",
       "      <td>chattogram</td>\n",
       "      <td>20000</td>\n",
       "    </tr>\n",
       "  </tbody>\n",
       "</table>\n",
       "</div>"
      ],
      "text/plain": [
       "   index    name  age        city  salary\n",
       "0      0    Asif   19      shylet   50000\n",
       "1      1    Babu   27    noakhali   60000\n",
       "2      2    Emon   23    rajshahi   70000\n",
       "3      3  Hassan   30    barishal   80000\n",
       "4      4   Mazid   17  chattogram   20000"
      ]
     },
     "execution_count": 17,
     "metadata": {},
     "output_type": "execute_result"
    }
   ],
   "source": [
    "df.reset_index()"
   ]
  },
  {
   "cell_type": "markdown",
   "id": "c7828b6a",
   "metadata": {},
   "source": [
    "### 13. Set the 'Name' column as index."
   ]
  },
  {
   "cell_type": "code",
   "execution_count": null,
   "id": "e5cb584e",
   "metadata": {},
   "outputs": [],
   "source": [
    "df.index = df['name']"
   ]
  },
  {
   "cell_type": "code",
   "execution_count": 19,
   "id": "2df9935e",
   "metadata": {},
   "outputs": [
    {
     "data": {
      "text/html": [
       "<div>\n",
       "<style scoped>\n",
       "    .dataframe tbody tr th:only-of-type {\n",
       "        vertical-align: middle;\n",
       "    }\n",
       "\n",
       "    .dataframe tbody tr th {\n",
       "        vertical-align: top;\n",
       "    }\n",
       "\n",
       "    .dataframe thead th {\n",
       "        text-align: right;\n",
       "    }\n",
       "</style>\n",
       "<table border=\"1\" class=\"dataframe\">\n",
       "  <thead>\n",
       "    <tr style=\"text-align: right;\">\n",
       "      <th></th>\n",
       "      <th>name</th>\n",
       "      <th>age</th>\n",
       "      <th>city</th>\n",
       "      <th>salary</th>\n",
       "    </tr>\n",
       "    <tr>\n",
       "      <th>name</th>\n",
       "      <th></th>\n",
       "      <th></th>\n",
       "      <th></th>\n",
       "      <th></th>\n",
       "    </tr>\n",
       "  </thead>\n",
       "  <tbody>\n",
       "    <tr>\n",
       "      <th>Asif</th>\n",
       "      <td>Asif</td>\n",
       "      <td>19</td>\n",
       "      <td>shylet</td>\n",
       "      <td>50000</td>\n",
       "    </tr>\n",
       "    <tr>\n",
       "      <th>Babu</th>\n",
       "      <td>Babu</td>\n",
       "      <td>27</td>\n",
       "      <td>noakhali</td>\n",
       "      <td>60000</td>\n",
       "    </tr>\n",
       "    <tr>\n",
       "      <th>Emon</th>\n",
       "      <td>Emon</td>\n",
       "      <td>23</td>\n",
       "      <td>rajshahi</td>\n",
       "      <td>70000</td>\n",
       "    </tr>\n",
       "    <tr>\n",
       "      <th>Hassan</th>\n",
       "      <td>Hassan</td>\n",
       "      <td>30</td>\n",
       "      <td>barishal</td>\n",
       "      <td>80000</td>\n",
       "    </tr>\n",
       "    <tr>\n",
       "      <th>Mazid</th>\n",
       "      <td>Mazid</td>\n",
       "      <td>17</td>\n",
       "      <td>chattogram</td>\n",
       "      <td>20000</td>\n",
       "    </tr>\n",
       "  </tbody>\n",
       "</table>\n",
       "</div>"
      ],
      "text/plain": [
       "          name  age        city  salary\n",
       "name                                   \n",
       "Asif      Asif   19      shylet   50000\n",
       "Babu      Babu   27    noakhali   60000\n",
       "Emon      Emon   23    rajshahi   70000\n",
       "Hassan  Hassan   30    barishal   80000\n",
       "Mazid    Mazid   17  chattogram   20000"
      ]
     },
     "execution_count": 19,
     "metadata": {},
     "output_type": "execute_result"
    }
   ],
   "source": [
    "df"
   ]
  },
  {
   "cell_type": "code",
   "execution_count": 23,
   "id": "2a3a5dfc",
   "metadata": {},
   "outputs": [],
   "source": [
    "df.drop('name', axis=1, inplace= True)"
   ]
  },
  {
   "cell_type": "markdown",
   "id": "ea099ee6",
   "metadata": {},
   "source": [
    "### 14. Filter rows where 'City' is either 'Noakhlali' or 'Shylet'."
   ]
  },
  {
   "cell_type": "code",
   "execution_count": 27,
   "id": "458688c4",
   "metadata": {},
   "outputs": [
    {
     "data": {
      "text/html": [
       "<div>\n",
       "<style scoped>\n",
       "    .dataframe tbody tr th:only-of-type {\n",
       "        vertical-align: middle;\n",
       "    }\n",
       "\n",
       "    .dataframe tbody tr th {\n",
       "        vertical-align: top;\n",
       "    }\n",
       "\n",
       "    .dataframe thead th {\n",
       "        text-align: right;\n",
       "    }\n",
       "</style>\n",
       "<table border=\"1\" class=\"dataframe\">\n",
       "  <thead>\n",
       "    <tr style=\"text-align: right;\">\n",
       "      <th></th>\n",
       "      <th>age</th>\n",
       "      <th>city</th>\n",
       "      <th>salary</th>\n",
       "    </tr>\n",
       "    <tr>\n",
       "      <th>name</th>\n",
       "      <th></th>\n",
       "      <th></th>\n",
       "      <th></th>\n",
       "    </tr>\n",
       "  </thead>\n",
       "  <tbody>\n",
       "    <tr>\n",
       "      <th>Babu</th>\n",
       "      <td>27</td>\n",
       "      <td>noakhali</td>\n",
       "      <td>60000</td>\n",
       "    </tr>\n",
       "    <tr>\n",
       "      <th>Hassan</th>\n",
       "      <td>30</td>\n",
       "      <td>barishal</td>\n",
       "      <td>80000</td>\n",
       "    </tr>\n",
       "  </tbody>\n",
       "</table>\n",
       "</div>"
      ],
      "text/plain": [
       "        age      city  salary\n",
       "name                         \n",
       "Babu     27  noakhali   60000\n",
       "Hassan   30  barishal   80000"
      ]
     },
     "execution_count": 27,
     "metadata": {},
     "output_type": "execute_result"
    }
   ],
   "source": [
    "df[(df['city'] == 'noakhali') | (df['city'] == 'barishal')]"
   ]
  },
  {
   "cell_type": "markdown",
   "id": "483d3ec3",
   "metadata": {},
   "source": [
    "### 15. Replace missing values in a DataFrame with the column mean."
   ]
  },
  {
   "cell_type": "code",
   "execution_count": 46,
   "id": "301263b3",
   "metadata": {},
   "outputs": [],
   "source": [
    "df['age'].fillna(value= df['age'].mean(), inplace= True)"
   ]
  },
  {
   "cell_type": "code",
   "execution_count": null,
   "id": "fcbcdc4f",
   "metadata": {},
   "outputs": [
    {
     "name": "stderr",
     "output_type": "stream",
     "text": [
      "C:\\Users\\Babu\\AppData\\Local\\Temp\\ipykernel_1168\\126905080.py:1: FutureWarning: A value is trying to be set on a copy of a DataFrame or Series through chained assignment using an inplace method.\n",
      "The behavior will change in pandas 3.0. This inplace method will never work because the intermediate object on which we are setting values always behaves as a copy.\n",
      "\n",
      "For example, when doing 'df[col].method(value, inplace=True)', try using 'df.method({col: value}, inplace=True)' or df[col] = df[col].method(value) instead, to perform the operation inplace on the original object.\n",
      "\n",
      "\n",
      "  df['salary'].fillna(value= df['salary'].mean(), inplace= True)\n"
     ]
    }
   ],
   "source": [
    "df['salary'].fillna(value= df['salary'].mean(), inplace= True)"
   ]
  },
  {
   "cell_type": "code",
   "execution_count": 50,
   "id": "77338856",
   "metadata": {},
   "outputs": [
    {
     "data": {
      "text/html": [
       "<div>\n",
       "<style scoped>\n",
       "    .dataframe tbody tr th:only-of-type {\n",
       "        vertical-align: middle;\n",
       "    }\n",
       "\n",
       "    .dataframe tbody tr th {\n",
       "        vertical-align: top;\n",
       "    }\n",
       "\n",
       "    .dataframe thead th {\n",
       "        text-align: right;\n",
       "    }\n",
       "</style>\n",
       "<table border=\"1\" class=\"dataframe\">\n",
       "  <thead>\n",
       "    <tr style=\"text-align: right;\">\n",
       "      <th></th>\n",
       "      <th>name</th>\n",
       "      <th>age</th>\n",
       "      <th>city</th>\n",
       "      <th>salary</th>\n",
       "    </tr>\n",
       "  </thead>\n",
       "  <tbody>\n",
       "    <tr>\n",
       "      <th>0</th>\n",
       "      <td>Asif</td>\n",
       "      <td>19.0</td>\n",
       "      <td>shylet</td>\n",
       "      <td>50000.0</td>\n",
       "    </tr>\n",
       "    <tr>\n",
       "      <th>1</th>\n",
       "      <td>Babu</td>\n",
       "      <td>27.0</td>\n",
       "      <td>noakhali</td>\n",
       "      <td>60000.0</td>\n",
       "    </tr>\n",
       "    <tr>\n",
       "      <th>2</th>\n",
       "      <td>Emon</td>\n",
       "      <td>23.0</td>\n",
       "      <td>rajshahi</td>\n",
       "      <td>70000.0</td>\n",
       "    </tr>\n",
       "    <tr>\n",
       "      <th>3</th>\n",
       "      <td>Hassan</td>\n",
       "      <td>30.0</td>\n",
       "      <td>barishal</td>\n",
       "      <td>80000.0</td>\n",
       "    </tr>\n",
       "    <tr>\n",
       "      <th>4</th>\n",
       "      <td>Mazid</td>\n",
       "      <td>17.0</td>\n",
       "      <td>chattogram</td>\n",
       "      <td>20000.0</td>\n",
       "    </tr>\n",
       "    <tr>\n",
       "      <th>5</th>\n",
       "      <td>Shiraj</td>\n",
       "      <td>23.2</td>\n",
       "      <td>rangpur</td>\n",
       "      <td>56000.0</td>\n",
       "    </tr>\n",
       "  </tbody>\n",
       "</table>\n",
       "</div>"
      ],
      "text/plain": [
       "     name   age        city   salary\n",
       "0    Asif  19.0      shylet  50000.0\n",
       "1    Babu  27.0    noakhali  60000.0\n",
       "2    Emon  23.0    rajshahi  70000.0\n",
       "3  Hassan  30.0    barishal  80000.0\n",
       "4   Mazid  17.0  chattogram  20000.0\n",
       "5  Shiraj  23.2     rangpur  56000.0"
      ]
     },
     "execution_count": 50,
     "metadata": {},
     "output_type": "execute_result"
    }
   ],
   "source": [
    "df"
   ]
  },
  {
   "cell_type": "markdown",
   "id": "9242610a",
   "metadata": {},
   "source": [
    "### 16. Group the DataFrame by 'City' and compute average 'Salary'."
   ]
  },
  {
   "cell_type": "code",
   "execution_count": null,
   "id": "ed447952",
   "metadata": {},
   "outputs": [],
   "source": []
  },
  {
   "cell_type": "code",
   "execution_count": null,
   "id": "b3b07245",
   "metadata": {},
   "outputs": [],
   "source": []
  },
  {
   "cell_type": "code",
   "execution_count": null,
   "id": "30ae1add",
   "metadata": {},
   "outputs": [],
   "source": []
  },
  {
   "cell_type": "markdown",
   "id": "9cc874df",
   "metadata": {},
   "source": [
    "### 17. Use `apply()` to calculate the length of each name in 'Name' column."
   ]
  },
  {
   "cell_type": "code",
   "execution_count": null,
   "id": "41a4d124",
   "metadata": {},
   "outputs": [],
   "source": []
  },
  {
   "cell_type": "markdown",
   "id": "19cb7d6c",
   "metadata": {},
   "source": [
    "### 18. Add a new column 'Tax' that is 10% of the Salary using `apply()`."
   ]
  },
  {
   "cell_type": "code",
   "execution_count": null,
   "id": "63bcf7c0",
   "metadata": {},
   "outputs": [],
   "source": []
  },
  {
   "cell_type": "markdown",
   "id": "8446aef8",
   "metadata": {},
   "source": [
    "### 19. Filter groups with more than 1 entry using `groupby`."
   ]
  },
  {
   "cell_type": "code",
   "execution_count": null,
   "id": "65bad0bf",
   "metadata": {},
   "outputs": [],
   "source": []
  },
  {
   "cell_type": "markdown",
   "id": "82fdc6cb",
   "metadata": {},
   "source": [
    "### 20. Create a pivot table of average Salary by City and Age."
   ]
  },
  {
   "cell_type": "code",
   "execution_count": null,
   "id": "72bd8448",
   "metadata": {},
   "outputs": [],
   "source": []
  },
  {
   "cell_type": "markdown",
   "id": "74eb3ab8",
   "metadata": {},
   "source": [
    "### 21. Merge two DataFrames on a common column 'ID'."
   ]
  },
  {
   "cell_type": "code",
   "execution_count": null,
   "id": "02d20b41",
   "metadata": {},
   "outputs": [],
   "source": []
  },
  {
   "cell_type": "markdown",
   "id": "2ac35577",
   "metadata": {},
   "source": [
    "### 22. Perform a left join using Pandas."
   ]
  },
  {
   "cell_type": "code",
   "execution_count": null,
   "id": "28abd9ca",
   "metadata": {},
   "outputs": [],
   "source": []
  },
  {
   "cell_type": "markdown",
   "id": "bde9c4f2",
   "metadata": {},
   "source": [
    "### 23. Concatenate two DataFrames vertically (stack rows)."
   ]
  },
  {
   "cell_type": "code",
   "execution_count": null,
   "id": "a6f318a7",
   "metadata": {},
   "outputs": [],
   "source": []
  },
  {
   "cell_type": "markdown",
   "id": "4ec7d1b0",
   "metadata": {},
   "source": [
    "### 24. Concatenate two DataFrames horizontally (side-by-side)."
   ]
  },
  {
   "cell_type": "code",
   "execution_count": null,
   "id": "18bb86d8",
   "metadata": {},
   "outputs": [],
   "source": []
  },
  {
   "cell_type": "markdown",
   "id": "dbb9ea4b",
   "metadata": {},
   "source": [
    "### 25. Join two DataFrames with different column names but similar data using `left_on` and `right_on`."
   ]
  },
  {
   "cell_type": "code",
   "execution_count": null,
   "id": "fa24efc7",
   "metadata": {},
   "outputs": [],
   "source": []
  },
  {
   "cell_type": "markdown",
   "id": "c2787a00",
   "metadata": {},
   "source": [
    "### 26. Load a CSV file into a Pandas DataFrame (e.g., 'sales.csv')."
   ]
  },
  {
   "cell_type": "code",
   "execution_count": null,
   "id": "89e4c36d",
   "metadata": {},
   "outputs": [],
   "source": []
  },
  {
   "cell_type": "markdown",
   "id": "82e94d44",
   "metadata": {},
   "source": [
    "### 27. Find top 5 products with highest total sales from the sales data."
   ]
  },
  {
   "cell_type": "code",
   "execution_count": null,
   "id": "38ca8170",
   "metadata": {},
   "outputs": [],
   "source": []
  },
  {
   "cell_type": "markdown",
   "id": "ff59fbd0",
   "metadata": {},
   "source": [
    "### 28. Convert a date column to datetime and extract the year."
   ]
  },
  {
   "cell_type": "code",
   "execution_count": null,
   "id": "03ff7d84",
   "metadata": {},
   "outputs": [],
   "source": []
  },
  {
   "cell_type": "markdown",
   "id": "e9f7af3b",
   "metadata": {},
   "source": [
    "### 29. Create a rolling average column for 'Sales' with a window of 3."
   ]
  },
  {
   "cell_type": "code",
   "execution_count": null,
   "id": "9ce85903",
   "metadata": {},
   "outputs": [],
   "source": []
  },
  {
   "cell_type": "markdown",
   "id": "721badb5",
   "metadata": {},
   "source": [
    "### 30. Identify and drop duplicate rows based on 'Order ID'."
   ]
  },
  {
   "cell_type": "code",
   "execution_count": null,
   "id": "e8908094",
   "metadata": {},
   "outputs": [],
   "source": []
  }
 ],
 "metadata": {
  "kernelspec": {
   "display_name": "Python 3",
   "language": "python",
   "name": "python3"
  },
  "language_info": {
   "codemirror_mode": {
    "name": "ipython",
    "version": 3
   },
   "file_extension": ".py",
   "mimetype": "text/x-python",
   "name": "python",
   "nbconvert_exporter": "python",
   "pygments_lexer": "ipython3",
   "version": "3.13.3"
  }
 },
 "nbformat": 4,
 "nbformat_minor": 5
}
