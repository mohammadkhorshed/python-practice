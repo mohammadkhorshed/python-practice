{
 "cells": [
  {
   "cell_type": "markdown",
   "id": "6f65f25c",
   "metadata": {},
   "source": [
    "# Python Open, Read, Write and Append Practice\n",
    "\n",
    "This notebook includes practical exercises on **Python Open, Read, Write and Append Practice of a Text File**.\n",
    "\n",
    "\n",
    "💡 This notebook was created by me to practice.\n",
    "\n",
    "---"
   ]
  },
  {
   "cell_type": "markdown",
   "id": "f73a1380",
   "metadata": {},
   "source": [
    "### 1. Writing Text to a File"
   ]
  },
  {
   "cell_type": "code",
   "execution_count": 3,
   "id": "8e0a61e7",
   "metadata": {},
   "outputs": [],
   "source": [
    "texts = [\"Python is a versatile, high-level programming language known for its readability and extensive libraries.\", \"It's widely used in web development, data science, artificial intelligence, and automation.\", \"Python's simple syntax and large, supportive community make it an excellent choice for beginners and experienced developers alike.\"]\n",
    "\n",
    "with open('pyText.txt', 'w') as file:\n",
    "    for text in texts:\n",
    "        file.write(text + '\\n')\n",
    "\n",
    "# A file named \"pyText.txt\" is created after executing this code!"
   ]
  },
  {
   "cell_type": "markdown",
   "id": "d2553cb5",
   "metadata": {},
   "source": [
    "### 2. Reading Text from a File"
   ]
  },
  {
   "cell_type": "code",
   "execution_count": 5,
   "id": "1298ea86",
   "metadata": {},
   "outputs": [
    {
     "name": "stdout",
     "output_type": "stream",
     "text": [
      "Python is a versatile, high-level programming language known for its readability and extensive libraries.\n",
      "It's widely used in web development, data science, artificial intelligence, and automation.\n",
      "Python's simple syntax and large, supportive community make it an excellent choice for beginners and experienced developers alike.\n"
     ]
    }
   ],
   "source": [
    "with open('pyText.txt', 'r') as file:\n",
    "    for line in file:\n",
    "        print(line.strip())"
   ]
  },
  {
   "cell_type": "markdown",
   "id": "c10296bd",
   "metadata": {},
   "source": [
    "### 3. Appending Text into an Existing File"
   ]
  },
  {
   "cell_type": "code",
   "execution_count": null,
   "id": "9cf028b5",
   "metadata": {},
   "outputs": [],
   "source": [
    "new_texts = [\"Python is cross-platform, allowing code written on one operating system to run on others without modification.\", \"Its dynamic typing and interpreted nature also make it ideal for rapid prototyping and scripting tasks.\"]\n",
    "\n",
    "with open('pyText.txt', 'a') as file:\n",
    "    for new_text in new_texts:\n",
    "        file.write(new_text + '\\n')\n",
    "\n",
    "# A texts added to \"pyText.txt\" after executing this code!"
   ]
  },
  {
   "cell_type": "code",
   "execution_count": 7,
   "id": "becf701c",
   "metadata": {},
   "outputs": [
    {
     "name": "stdout",
     "output_type": "stream",
     "text": [
      "Python is a versatile, high-level programming language known for its readability and extensive libraries.\n",
      "It's widely used in web development, data science, artificial intelligence, and automation.\n",
      "Python's simple syntax and large, supportive community make it an excellent choice for beginners and experienced developers alike.\n",
      "Python is cross-platform, allowing code written on one operating system to run on others without modification.\n",
      "Its dynamic typing and interpreted nature also make it ideal for rapid prototyping and scripting tasks.\n"
     ]
    }
   ],
   "source": [
    "with open('pyText.txt', 'r') as file:\n",
    "    for line in file:\n",
    "        print(line.strip())"
   ]
  }
 ],
 "metadata": {
  "kernelspec": {
   "display_name": "Python 3",
   "language": "python",
   "name": "python3"
  },
  "language_info": {
   "codemirror_mode": {
    "name": "ipython",
    "version": 3
   },
   "file_extension": ".py",
   "mimetype": "text/x-python",
   "name": "python",
   "nbconvert_exporter": "python",
   "pygments_lexer": "ipython3",
   "version": "3.13.3"
  }
 },
 "nbformat": 4,
 "nbformat_minor": 5
}
