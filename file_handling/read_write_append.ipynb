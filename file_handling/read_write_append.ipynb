{
 "cells": [
  {
   "cell_type": "markdown",
   "id": "6f65f25c",
   "metadata": {},
   "source": [
    "# Python Open, Read, Write and Append Practice\n",
    "\n",
    "This notebook includes practical exercises on **Python Open, Read, Write and Append Practice of a Text File**.\n",
    "\n",
    "\n",
    "💡 This notebook was created by me to practice.\n",
    "\n",
    "---"
   ]
  },
  {
   "cell_type": "code",
   "execution_count": null,
   "id": "8e0a61e7",
   "metadata": {
    "vscode": {
     "languageId": "plaintext"
    }
   },
   "outputs": [],
   "source": []
  }
 ],
 "metadata": {
  "language_info": {
   "name": "python"
  }
 },
 "nbformat": 4,
 "nbformat_minor": 5
}
