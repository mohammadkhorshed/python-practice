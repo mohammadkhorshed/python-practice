{
 "cells": [
  {
   "cell_type": "markdown",
   "id": "8f7e8c25",
   "metadata": {},
   "source": [
    "# PDF Reading by Using Python\n",
    "\n",
    "This notebook includes practical exercises on **PDF Reading by Using Python**.\n",
    "\n",
    "\n",
    "💡 This notebook was created by me to practice.\n",
    "\n",
    "---"
   ]
  },
  {
   "cell_type": "code",
   "execution_count": 10,
   "id": "22c9b5a5",
   "metadata": {},
   "outputs": [],
   "source": [
    "# Importing PyPDF2 library \n",
    "\n",
    "import PyPDF2"
   ]
  },
  {
   "cell_type": "code",
   "execution_count": 12,
   "id": "ea34a2af",
   "metadata": {},
   "outputs": [
    {
     "name": "stdout",
     "output_type": "stream",
     "text": [
      "The Future of Space Exploration  \n",
      "This document explores the exciting and rapidly evolving landscape of space exploration, \n",
      "highlighting key areas of innovation and ambition. From returning to the Moon to venturing \n",
      "beyond Mars, humanity's reach into the cosmos is expanding at an unprecedent ed pace.  \n",
      "The first paragraph delves into the motivations behind this renewed push into space, including \n",
      "scientific discovery, resource utilization, and the long -term survival of humanity. It touches \n",
      "upon the blend of government -led initiatives and burgeoning privat e sector involvement that is \n",
      "democratizing access to space and accelerating technological advancements.  \n",
      "This second paragraph focuses on specific frontiers and technologies driving future missions. \n",
      "We'll look at the development of advanced propulsion systems, the search for exoplanets and \n",
      "extraterrestrial life, and the establishment of permanent human outpos ts on other celestial \n",
      "bodies. The emphasis is on sustainable exploration and creating a multi -planetary future.  \n",
      "Here are some key aspects shaping the future of space exploration:  \n",
      "• Lunar Gateway & Moon Bases:  Establishing a permanent human presence on and \n",
      "around the Moon as a stepping stone for deeper space missions.  \n",
      "• Mars Colonization:  Developing the technology and infrastructure for sustained human \n",
      "habitation on the Red Planet.  \n",
      "• Asteroid Mining:  Exploring the potential for extracting valuable resources from \n",
      "asteroids to support in -space operations and Earth's economy.  \n",
      "• Advanced Propulsion:  Research into faster, more efficient travel methods like nuclear \n",
      "thermal propulsion or even warp drive concepts.  \n",
      "• Exoplanet Discovery & Characterization:  Using next -generation telescopes to find \n",
      "and study potentially habitable planets beyond our solar system.  \n",
      "• Space Tourism & Commercialization:  The growth of private companies offering \n",
      "space travel and services, making space more accessible.  \n",
      "We hope this exploration into the future of space exploration sparks your imagination and \n",
      "highlights the incredible possibilities that lie ahead. The journey to becoming a truly \n",
      "spacefaring civilization is well underway.  \n"
     ]
    }
   ],
   "source": [
    "# For reading one page at a time.\n",
    "\n",
    "with open('Space_Exploration.pdf', 'rb') as file:\n",
    "    reader = PyPDF2.PdfReader(file)\n",
    "    \n",
    "    first_page = reader.pages[0].extract_text()\n",
    "    print(first_page)"
   ]
  },
  {
   "cell_type": "code",
   "execution_count": 16,
   "id": "e7e754e0",
   "metadata": {},
   "outputs": [
    {
     "name": "stdout",
     "output_type": "stream",
     "text": [
      "The Future of Space Exploration  \n",
      "This document explores the exciting and rapidly evolving landscape of space exploration, \n",
      "highlighting key areas of innovation and ambition. From returning to the Moon to venturing \n",
      "beyond Mars, humanity's reach into the cosmos is expanding at an unprecedent ed pace.  \n",
      "The first paragraph delves into the motivations behind this renewed push into space, including \n",
      "scientific discovery, resource utilization, and the long -term survival of humanity. It touches \n",
      "upon the blend of government -led initiatives and burgeoning privat e sector involvement that is \n",
      "democratizing access to space and accelerating technological advancements.  \n",
      "This second paragraph focuses on specific frontiers and technologies driving future missions. \n",
      "We'll look at the development of advanced propulsion systems, the search for exoplanets and \n",
      "extraterrestrial life, and the establishment of permanent human outpos ts on other celestial \n",
      "bodies. The emphasis is on sustainable exploration and creating a multi -planetary future.  \n",
      "Here are some key aspects shaping the future of space exploration:  \n",
      "• Lunar Gateway & Moon Bases:  Establishing a permanent human presence on and \n",
      "around the Moon as a stepping stone for deeper space missions.  \n",
      "• Mars Colonization:  Developing the technology and infrastructure for sustained human \n",
      "habitation on the Red Planet.  \n",
      "• Asteroid Mining:  Exploring the potential for extracting valuable resources from \n",
      "asteroids to support in -space operations and Earth's economy.  \n",
      "• Advanced Propulsion:  Research into faster, more efficient travel methods like nuclear \n",
      "thermal propulsion or even warp drive concepts.  \n",
      "• Exoplanet Discovery & Characterization:  Using next -generation telescopes to find \n",
      "and study potentially habitable planets beyond our solar system.  \n",
      "• Space Tourism & Commercialization:  The growth of private companies offering \n",
      "space travel and services, making space more accessible.  \n",
      "We hope this exploration into the future of space exploration sparks your imagination and \n",
      "highlights the incredible possibilities that lie ahead. The journey to becoming a truly \n",
      "spacefaring civilization is well underway.  \n",
      "\n",
      "\n",
      "Challenges and Ethics in Space Exploration  \n",
      "While the future of space exploration holds immense promise, it is not without significant \n",
      "challenges and complex ethical considerations. Addressing these issues will be crucial for \n",
      "ensuring a responsible and sustainable path forward for humanity's cosmic endeavors.  \n",
      "One of the primary challenges is the technical hurdle  of long -duration space travel, including \n",
      "robust life support systems, radiation mitigation, and closed -loop ecosystems. The vast \n",
      "distances also demand breakthroughs in propulsion technology to reduce travel times.  \n",
      "Another critical challenge is funding and resource allocation . Space exploration is incredibly \n",
      "expensive, requiring massive investments. Balancing these costs with other societal needs on \n",
      "Earth presents a continuous ethical dilemma. International collaboration and innovative \n",
      "funding models are vital.  \n",
      "Beyond the technical and financial aspects, profound ethical questions  arise as we venture \n",
      "further into space:  \n",
      "• Planetary Protection:  Preventing contamination of other celestial bodies and \n",
      "protecting Earth from potential extraterrestrial contaminants.  \n",
      "• Resource Ownership:  Establishing clear international legal frameworks for resources \n",
      "found on the Moon, asteroids, or Mars.  \n",
      "• Space Debris:  Addressing the growing problem of orbital debris and developing \n",
      "mitigation strategies.  \n",
      "• The Rights of Future Space Inhabitants:  Defining legal and social frameworks for \n",
      "those living in space, including governance and citizenship.  \n",
      "• The Search for Extraterrestrial Life:  Protocols for contact and the ethical \n",
      "implications of discovering intelligent life.  \n",
      "Addressing these challenges and ethical considerations thoughtfully and collaboratively will \n",
      "be essential for building a truly sustainable and equitable future for space exploration, ensuring \n",
      "that our journey among the stars benefits all of humanity.  \n",
      " \n",
      "\n",
      "\n"
     ]
    }
   ],
   "source": [
    "# For reading all pages at a time.\n",
    "\n",
    "with open('Space_Exploration.pdf', 'rb') as file:\n",
    "    reader = PyPDF2.PdfReader(file)\n",
    "\n",
    "    for page in reader.pages:\n",
    "        print(page.extract_text())\n",
    "        print('\\n')\n",
    "    "
   ]
  },
  {
   "cell_type": "markdown",
   "id": "df4c76c8",
   "metadata": {},
   "source": []
  }
 ],
 "metadata": {
  "kernelspec": {
   "display_name": "Python 3",
   "language": "python",
   "name": "python3"
  },
  "language_info": {
   "codemirror_mode": {
    "name": "ipython",
    "version": 3
   },
   "file_extension": ".py",
   "mimetype": "text/x-python",
   "name": "python",
   "nbconvert_exporter": "python",
   "pygments_lexer": "ipython3",
   "version": "3.13.3"
  }
 },
 "nbformat": 4,
 "nbformat_minor": 5
}
