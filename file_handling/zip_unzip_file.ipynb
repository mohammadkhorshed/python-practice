{
 "cells": [
  {
   "cell_type": "markdown",
   "id": "2f3e55c6",
   "metadata": {},
   "source": [
    "# Zip and Unzip Files Using Python\n",
    "\n",
    "This notebook includes practical exercises on **Zip and Unzip Files Using Python**.\n",
    "\n",
    "\n",
    "💡 This notebook was created by me to practice.\n",
    "\n",
    "---"
   ]
  },
  {
   "cell_type": "markdown",
   "id": "90d2ffb8",
   "metadata": {},
   "source": [
    "### 1. Zip"
   ]
  },
  {
   "cell_type": "code",
   "execution_count": 1,
   "id": "84957a17",
   "metadata": {},
   "outputs": [],
   "source": [
    "import zipfile as zp\n",
    "\n",
    "with zp.ZipFile('zip_file.zip', 'w', zp.ZIP_DEFLATED) as zip_file:\n",
    "    zip_file.write('text.txt', arcname= 'text.txt')\n",
    "    zip_file.write('text_before_replacing.jpg', arcname= 'text_before_replacing.jpg')"
   ]
  },
  {
   "cell_type": "markdown",
   "id": "f34775c3",
   "metadata": {},
   "source": [
    "### 2. Unzip"
   ]
  },
  {
   "cell_type": "code",
   "execution_count": 2,
   "id": "43a571be",
   "metadata": {},
   "outputs": [],
   "source": [
    "with zp.ZipFile('zip_file.zip', 'r') as files:\n",
    "    files.extractall('temp_unzip_folder')"
   ]
  }
 ],
 "metadata": {
  "kernelspec": {
   "display_name": "Python 3",
   "language": "python",
   "name": "python3"
  },
  "language_info": {
   "codemirror_mode": {
    "name": "ipython",
    "version": 3
   },
   "file_extension": ".py",
   "mimetype": "text/x-python",
   "name": "python",
   "nbconvert_exporter": "python",
   "pygments_lexer": "ipython3",
   "version": "3.13.3"
  }
 },
 "nbformat": 4,
 "nbformat_minor": 5
}
