{
 "cells": [
  {
   "cell_type": "markdown",
   "id": "48649629",
   "metadata": {},
   "source": [
    "# Python Search and Replace Practice\n",
    "\n",
    "This notebook includes practical exercises on **Python Search and Replace in a Text File**.\n",
    "\n",
    "\n",
    "💡 This notebook was created by me to practice.\n",
    "\n",
    "---"
   ]
  },
  {
   "cell_type": "code",
   "execution_count": null,
   "id": "0670e696",
   "metadata": {
    "vscode": {
     "languageId": "plaintext"
    }
   },
   "outputs": [],
   "source": []
  }
 ],
 "metadata": {
  "language_info": {
   "name": "python"
  }
 },
 "nbformat": 4,
 "nbformat_minor": 5
}
