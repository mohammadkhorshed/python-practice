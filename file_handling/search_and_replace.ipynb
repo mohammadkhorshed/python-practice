{
 "cells": [
  {
   "cell_type": "markdown",
   "id": "48649629",
   "metadata": {},
   "source": [
    "# Python Search and Replace Practice\n",
    "\n",
    "This notebook includes practical exercises on **Python Search and Replace in a Text File**.\n",
    "\n",
    "\n",
    "💡 This notebook was created by me to practice.\n",
    "\n",
    "---"
   ]
  },
  {
   "cell_type": "markdown",
   "id": "a3a5e72a",
   "metadata": {},
   "source": [
    "### External file text manipulation"
   ]
  },
  {
   "cell_type": "code",
   "execution_count": 3,
   "id": "5cf7863c",
   "metadata": {},
   "outputs": [],
   "source": [
    "searched_word = 'fox'\n",
    "replaced_word = 'wolf'\n",
    "\n",
    "with open(r'text.txt', 'r') as file:\n",
    "    data = file.read()\n",
    "    data = data.replace(searched_word, replaced_word)\n",
    "\n",
    "with open(r'text.txt', 'w') as file:\n",
    "    file.write(data)"
   ]
  },
  {
   "cell_type": "markdown",
   "id": "cada7738",
   "metadata": {},
   "source": [
    "### In-file String manipulation "
   ]
  },
  {
   "cell_type": "code",
   "execution_count": 4,
   "id": "34a92b0a",
   "metadata": {},
   "outputs": [],
   "source": [
    "text = '''The quick brown fox jumps over the lazy dog. \n",
    "The lazy dog barks at the fox, but the fox doesn't care.\n",
    "The fox is clever animal, and dog is loyal companion.'''"
   ]
  },
  {
   "cell_type": "code",
   "execution_count": 6,
   "id": "0b24034f",
   "metadata": {},
   "outputs": [
    {
     "name": "stdout",
     "output_type": "stream",
     "text": [
      "The quick brown wolf jumps over the lazy dog. \n",
      "The lazy dog barks at the wolf, but the wolf doesn't care.\n",
      "The wolf is clever animal, and dog is loyal companion.\n"
     ]
    }
   ],
   "source": [
    "import re\n",
    "\n",
    "modified_text = re.sub(searched_word, replaced_word, text)\n",
    "print(modified_text)"
   ]
  }
 ],
 "metadata": {
  "kernelspec": {
   "display_name": "Python 3",
   "language": "python",
   "name": "python3"
  },
  "language_info": {
   "codemirror_mode": {
    "name": "ipython",
    "version": 3
   },
   "file_extension": ".py",
   "mimetype": "text/x-python",
   "name": "python",
   "nbconvert_exporter": "python",
   "pygments_lexer": "ipython3",
   "version": "3.13.3"
  }
 },
 "nbformat": 4,
 "nbformat_minor": 5
}
