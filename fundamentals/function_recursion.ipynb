{
 "cells": [
  {
   "cell_type": "markdown",
   "id": "8731987e",
   "metadata": {},
   "source": [
    "# Python Function Recursion Practice\n",
    "\n",
    "This notebook contains **5 exercises** on **recursive functions** in Python, ranging from basic to advanced.\n",
    "\n",
    "🧠 These problems are selected by ChatGPT to enhance my understanding of recursion logic and application.\n",
    "\n",
    "✅ The problems were solved through my own efforts.\n",
    "\n",
    "---"
   ]
  },
  {
   "cell_type": "markdown",
   "id": "07ac03c3",
   "metadata": {},
   "source": [
    "### 1. Write a recursive function to calculate the factorial of a number."
   ]
  },
  {
   "cell_type": "code",
   "execution_count": 2,
   "id": "af0ee3a9",
   "metadata": {},
   "outputs": [
    {
     "data": {
      "text/plain": [
       "120"
      ]
     },
     "execution_count": 2,
     "metadata": {},
     "output_type": "execute_result"
    }
   ],
   "source": [
    "def fact(x):\n",
    "    if x == 0:\n",
    "        return 1\n",
    "    return x * fact(x -1)\n",
    "\n",
    "fact(5)"
   ]
  },
  {
   "cell_type": "markdown",
   "id": "8fb8219e",
   "metadata": {},
   "source": [
    "### 2. Write a recursive function to generate the nth Fibonacci number."
   ]
  },
  {
   "cell_type": "code",
   "execution_count": 11,
   "id": "0f51da60",
   "metadata": {},
   "outputs": [
    {
     "data": {
      "text/plain": [
       "5"
      ]
     },
     "execution_count": 11,
     "metadata": {},
     "output_type": "execute_result"
    }
   ],
   "source": [
    "def fibonacci(n):\n",
    "    if n <= 1:\n",
    "        return n\n",
    "    return fibonacci(n - 1) + fibonacci(n - 2)\n",
    "fibonacci(5)"
   ]
  },
  {
   "cell_type": "markdown",
   "id": "02661d68",
   "metadata": {},
   "source": [
    "### 3. Write a recursive function to calculate the sum of all elements in a list."
   ]
  },
  {
   "cell_type": "code",
   "execution_count": 12,
   "id": "c833ba5b",
   "metadata": {},
   "outputs": [
    {
     "data": {
      "text/plain": [
       "33"
      ]
     },
     "execution_count": 12,
     "metadata": {},
     "output_type": "execute_result"
    }
   ],
   "source": [
    "def calculate_sum(lst):\n",
    "    if not lst:\n",
    "        return 0\n",
    "    return lst[0] + calculate_sum(lst[1:])\n",
    "calculate_sum([2, 3, 5, 6, 8, 9])"
   ]
  },
  {
   "cell_type": "markdown",
   "id": "0f117db0",
   "metadata": {},
   "source": [
    "### 4. Write a recursive function to count the number of digits in a number."
   ]
  },
  {
   "cell_type": "code",
   "execution_count": 13,
   "id": "ff279644",
   "metadata": {},
   "outputs": [
    {
     "data": {
      "text/plain": [
       "4"
      ]
     },
     "execution_count": 13,
     "metadata": {},
     "output_type": "execute_result"
    }
   ],
   "source": [
    "def count_digits(num):\n",
    "    num =  abs(int(num))\n",
    "    if num < 10:\n",
    "        return 1\n",
    "    return 1 + count_digits(num // 10)\n",
    "count_digits(5389)"
   ]
  },
  {
   "cell_type": "markdown",
   "id": "dd643cde",
   "metadata": {},
   "source": [
    "### 5. Write a recursive function to reverse a string."
   ]
  },
  {
   "cell_type": "code",
   "execution_count": 14,
   "id": "fef93152",
   "metadata": {},
   "outputs": [
    {
     "data": {
      "text/plain": [
       "'nohtyp'"
      ]
     },
     "execution_count": 14,
     "metadata": {},
     "output_type": "execute_result"
    }
   ],
   "source": [
    "def reverse_str(text):\n",
    "    if len(text) < 1:\n",
    "        return text\n",
    "    return text[-1] + reverse_str(text[:-1])\n",
    "reverse_str(\"python\")"
   ]
  }
 ],
 "metadata": {
  "kernelspec": {
   "display_name": "Python 3",
   "language": "python",
   "name": "python3"
  },
  "language_info": {
   "codemirror_mode": {
    "name": "ipython",
    "version": 3
   },
   "file_extension": ".py",
   "mimetype": "text/x-python",
   "name": "python",
   "nbconvert_exporter": "python",
   "pygments_lexer": "ipython3",
   "version": "3.13.3"
  }
 },
 "nbformat": 4,
 "nbformat_minor": 5
}
