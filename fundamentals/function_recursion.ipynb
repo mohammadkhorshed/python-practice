{
 "cells": [
  {
   "cell_type": "markdown",
   "id": "8731987e",
   "metadata": {},
   "source": [
    "# Python Function Recursion Practice\n",
    "\n",
    "This notebook contains **5 exercises** on **recursive functions** in Python, ranging from basic to advanced.\n",
    "\n",
    "🧠 These problems are selected by ChatGPT to enhance my understanding of recursion logic and application.\n",
    "\n",
    "✅ The problems were solved through my own efforts.\n",
    "\n",
    "---"
   ]
  },
  {
   "cell_type": "markdown",
   "id": "07ac03c3",
   "metadata": {},
   "source": [
    "### 1. Write a recursive function to calculate the factorial of a number."
   ]
  },
  {
   "cell_type": "code",
   "execution_count": null,
   "id": "af0ee3a9",
   "metadata": {},
   "outputs": [],
   "source": []
  },
  {
   "cell_type": "markdown",
   "id": "8fb8219e",
   "metadata": {},
   "source": [
    "### 2. Write a recursive function to generate the nth Fibonacci number."
   ]
  },
  {
   "cell_type": "code",
   "execution_count": null,
   "id": "0f51da60",
   "metadata": {},
   "outputs": [],
   "source": []
  },
  {
   "cell_type": "markdown",
   "id": "02661d68",
   "metadata": {},
   "source": [
    "### 3. Write a recursive function to calculate the sum of all elements in a list."
   ]
  },
  {
   "cell_type": "code",
   "execution_count": null,
   "id": "c833ba5b",
   "metadata": {},
   "outputs": [],
   "source": []
  },
  {
   "cell_type": "markdown",
   "id": "0f117db0",
   "metadata": {},
   "source": [
    "### 4. Write a recursive function to count the number of digits in a number."
   ]
  },
  {
   "cell_type": "code",
   "execution_count": null,
   "id": "ff279644",
   "metadata": {},
   "outputs": [],
   "source": []
  },
  {
   "cell_type": "markdown",
   "id": "dd643cde",
   "metadata": {},
   "source": [
    "### 5. Write a recursive function to reverse a string."
   ]
  },
  {
   "cell_type": "code",
   "execution_count": null,
   "id": "fef93152",
   "metadata": {},
   "outputs": [],
   "source": []
  }
 ],
 "metadata": {
  "language_info": {
   "name": "python"
  }
 },
 "nbformat": 4,
 "nbformat_minor": 5
}
