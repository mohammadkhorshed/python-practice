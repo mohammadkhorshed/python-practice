{
 "cells": [
  {
   "cell_type": "markdown",
   "id": "8731987e",
   "metadata": {},
   "source": [
    "# Python Function Recursion Practice\n",
    "\n",
    "This notebook contains **5 exercises** on **recursive functions** in Python, ranging from basic to advanced.\n",
    "\n",
    "🧠 These problems are selected by ChatGPT to enhance my understanding of recursion logic and application.\n",
    "\n",
    "✅ The problems were solved through my own efforts.\n",
    "\n",
    "---"
   ]
  },
  {
   "cell_type": "markdown",
   "id": "07ac03c3",
   "metadata": {},
   "source": [
    "### 1. Write a recursive function to calculate the factorial of a number."
   ]
  },
  {
   "cell_type": "code",
   "execution_count": 2,
   "id": "af0ee3a9",
   "metadata": {},
   "outputs": [
    {
     "data": {
      "text/plain": [
       "120"
      ]
     },
     "execution_count": 2,
     "metadata": {},
     "output_type": "execute_result"
    }
   ],
   "source": [
    "def fact(x):\n",
    "    if x == 0:\n",
    "        return 1\n",
    "    return x * fact(x -1)\n",
    "\n",
    "fact(5)"
   ]
  },
  {
   "cell_type": "markdown",
   "id": "8fb8219e",
   "metadata": {},
   "source": [
    "### 2. Write a recursive function to generate the nth Fibonacci number."
   ]
  },
  {
   "cell_type": "code",
   "execution_count": 11,
   "id": "0f51da60",
   "metadata": {},
   "outputs": [
    {
     "data": {
      "text/plain": [
       "5"
      ]
     },
     "execution_count": 11,
     "metadata": {},
     "output_type": "execute_result"
    }
   ],
   "source": [
    "def fibonacci(n):\n",
    "    if n <= 1:\n",
    "        return n\n",
    "    return fibonacci(n - 1) + fibonacci(n - 2)\n",
    "fibonacci(5)"
   ]
  },
  {
   "cell_type": "markdown",
   "id": "02661d68",
   "metadata": {},
   "source": [
    "### 3. Write a recursive function to calculate the sum of all elements in a list."
   ]
  },
  {
   "cell_type": "code",
   "execution_count": 12,
   "id": "c833ba5b",
   "metadata": {},
   "outputs": [
    {
     "data": {
      "text/plain": [
       "33"
      ]
     },
     "execution_count": 12,
     "metadata": {},
     "output_type": "execute_result"
    }
   ],
   "source": [
    "def calculate_sum(lst):\n",
    "    if not lst:\n",
    "        return 0\n",
    "    return lst[0] + calculate_sum(lst[1:])\n",
    "calculate_sum([2, 3, 5, 6, 8, 9])"
   ]
  },
  {
   "cell_type": "markdown",
   "id": "0f117db0",
   "metadata": {},
   "source": [
    "### 4. Write a recursive function to count the number of digits in a number."
   ]
  },
  {
   "cell_type": "code",
   "execution_count": 13,
   "id": "ff279644",
   "metadata": {},
   "outputs": [
    {
     "data": {
      "text/plain": [
       "4"
      ]
     },
     "execution_count": 13,
     "metadata": {},
     "output_type": "execute_result"
    }
   ],
   "source": [
    "def count_digits(num):\n",
    "    num =  abs(int(num))\n",
    "    if num < 10:\n",
    "        return 1\n",
    "    return 1 + count_digits(num // 10)\n",
    "count_digits(5389)"
   ]
  },
  {
   "cell_type": "markdown",
   "id": "dd643cde",
   "metadata": {},
   "source": [
    "### 5. Write a recursive function to reverse a string."
   ]
  },
  {
   "cell_type": "code",
   "execution_count": 14,
   "id": "fef93152",
   "metadata": {},
   "outputs": [
    {
     "data": {
      "text/plain": [
       "'nohtyp'"
      ]
     },
     "execution_count": 14,
     "metadata": {},
     "output_type": "execute_result"
    }
   ],
   "source": [
    "def reverse_str(text):\n",
    "    if len(text) < 1:\n",
    "        return text\n",
    "    return text[-1] + reverse_str(text[:-1])\n",
    "reverse_str(\"python\")"
   ]
  },
  {
   "cell_type": "markdown",
   "id": "587c6b40",
   "metadata": {},
   "source": [
    "### 6. Write a recursive function that takes an integer and returns the sum of its digits."
   ]
  },
  {
   "cell_type": "code",
   "execution_count": 16,
   "id": "a4442ebd",
   "metadata": {},
   "outputs": [
    {
     "data": {
      "text/plain": [
       "15"
      ]
     },
     "execution_count": 16,
     "metadata": {},
     "output_type": "execute_result"
    }
   ],
   "source": [
    "def sum_of_digits(n):\n",
    "    if n < 10:\n",
    "        return n\n",
    "    return n % 10 + sum_of_digits(n // 10)\n",
    "sum_of_digits(12345)"
   ]
  },
  {
   "cell_type": "markdown",
   "id": "99836d8d",
   "metadata": {},
   "source": [
    "### 7. Write a recursive function that counts how many times a specific value appears in a nested list."
   ]
  },
  {
   "cell_type": "code",
   "execution_count": 18,
   "id": "97fa1973",
   "metadata": {},
   "outputs": [
    {
     "data": {
      "text/plain": [
       "4"
      ]
     },
     "execution_count": 18,
     "metadata": {},
     "output_type": "execute_result"
    }
   ],
   "source": [
    "def count_element(lst, val):\n",
    "    count = 0\n",
    "    for item in lst:\n",
    "        if item == val:\n",
    "            count += 1\n",
    "        elif isinstance(item, list):\n",
    "            count += count_element(item, val)\n",
    "    return count\n",
    "my_list = [5, [2, 4], 2, [6, 2, 9], [2, 3]]\n",
    "count_element(my_list, 2)"
   ]
  },
  {
   "cell_type": "code",
   "execution_count": 19,
   "id": "681e4b0b",
   "metadata": {},
   "outputs": [
    {
     "data": {
      "text/plain": [
       "4"
      ]
     },
     "execution_count": 19,
     "metadata": {},
     "output_type": "execute_result"
    }
   ],
   "source": [
    "def count_element(lst, val):\n",
    "    return sum(count_element(item, val) if isinstance(item, list) else item == val for item in lst)\n",
    "my_list = [5, [2, 4], 2, [6, 2, 9], [2, 3]]\n",
    "count_element(my_list, 2)"
   ]
  },
  {
   "cell_type": "markdown",
   "id": "e4d48b5e",
   "metadata": {},
   "source": [
    "### 8. Write a recursive function to compute the GCD of two integers using the Euclidean algorithm."
   ]
  },
  {
   "cell_type": "code",
   "execution_count": 14,
   "id": "9cfd4c72",
   "metadata": {},
   "outputs": [
    {
     "data": {
      "text/plain": [
       "6"
      ]
     },
     "execution_count": 14,
     "metadata": {},
     "output_type": "execute_result"
    }
   ],
   "source": [
    "def gcd(x, y):\n",
    "    return abs(x) if y == 0 else gcd(y, x % y)\n",
    "gcd(48, 18)"
   ]
  },
  {
   "cell_type": "markdown",
   "id": "cfebe3b2",
   "metadata": {},
   "source": [
    "### 9. Write a recursive function to flatten a list that may contain nested lists of arbitrary depth."
   ]
  },
  {
   "cell_type": "code",
   "execution_count": 16,
   "id": "45e6f9b1",
   "metadata": {},
   "outputs": [
    {
     "data": {
      "text/plain": [
       "[2, 4, 6, 8, 10, 12, 1, 3, 5, 7]"
      ]
     },
     "execution_count": 16,
     "metadata": {},
     "output_type": "execute_result"
    }
   ],
   "source": [
    "def flatten_list(lst):\n",
    "    flattened_list = []\n",
    "    for item in lst:\n",
    "        if isinstance(item, list):\n",
    "            flattened_list.extend(flatten_list(item))\n",
    "        else:\n",
    "            flattened_list.append(item)\n",
    "    return flattened_list\n",
    "\n",
    "flatten_list([[2, 4], 6, [8, [10, 12]], [1, 3, [5, 7]]])"
   ]
  },
  {
   "cell_type": "markdown",
   "id": "ab2cc9a4",
   "metadata": {},
   "source": [
    "### 10. Write a recursive function that checks if a string is a palindrome (ignoring case and non-alphanumeric characters)."
   ]
  },
  {
   "cell_type": "code",
   "execution_count": 21,
   "id": "a7cf03e5",
   "metadata": {},
   "outputs": [
    {
     "data": {
      "text/plain": [
       "True"
      ]
     },
     "execution_count": 21,
     "metadata": {},
     "output_type": "execute_result"
    }
   ],
   "source": [
    "def is_palindrome(s, left=0, right=None):\n",
    "    if right == None:\n",
    "        cleaned = [c.lower() for c in s if c.isalnum()]\n",
    "        s = ''.join(cleaned)\n",
    "        right = len(s) - 1\n",
    "    if left >= right:\n",
    "        return True\n",
    "    if s[left] != s[right]:\n",
    "        return False\n",
    "    return is_palindrome(s, left + 1, right - 1)\n",
    "\n",
    "is_palindrome(\"Madam\")"
   ]
  }
 ],
 "metadata": {
  "kernelspec": {
   "display_name": "Python 3",
   "language": "python",
   "name": "python3"
  },
  "language_info": {
   "codemirror_mode": {
    "name": "ipython",
    "version": 3
   },
   "file_extension": ".py",
   "mimetype": "text/x-python",
   "name": "python",
   "nbconvert_exporter": "python",
   "pygments_lexer": "ipython3",
   "version": "3.13.3"
  }
 },
 "nbformat": 4,
 "nbformat_minor": 5
}
