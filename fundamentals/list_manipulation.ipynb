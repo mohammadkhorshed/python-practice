{
 "cells": [
  {
   "cell_type": "markdown",
   "id": "4a323598",
   "metadata": {},
   "source": [
    "# Python List Manipulation Practice\n",
    "\n",
    "This notebook includes **10 exercises** on Python **list manipulation** — from basic operations to advanced use cases.\n",
    "\n",
    "These exercises are crafted by ChatGPT to improve my command over:\n",
    "- Indexing and slicing\n",
    "- Insertion and deletion\n",
    "- Sorting, filtering, and nested lists\n",
    "- Real-life problem solving with lists\n",
    "\n",
    "✅ The problems were solved through my own efforts.\n",
    "\n",
    "---"
   ]
  },
  {
   "cell_type": "markdown",
   "id": "0c10d3a2",
   "metadata": {},
   "source": [
    "### 1. Reverse a list without using built-in reverse methods."
   ]
  },
  {
   "cell_type": "code",
   "execution_count": null,
   "id": "2546a6bf",
   "metadata": {},
   "outputs": [],
   "source": []
  },
  {
   "cell_type": "markdown",
   "id": "683338a6",
   "metadata": {},
   "source": [
    "### 2. Remove all occurrences of a specific element from a list."
   ]
  },
  {
   "cell_type": "code",
   "execution_count": null,
   "id": "33d02809",
   "metadata": {},
   "outputs": [],
   "source": []
  },
  {
   "cell_type": "markdown",
   "id": "941259cb",
   "metadata": {},
   "source": [
    "### 3. Extract all even numbers from a list using list comprehension."
   ]
  },
  {
   "cell_type": "code",
   "execution_count": null,
   "id": "5d94c375",
   "metadata": {},
   "outputs": [],
   "source": []
  },
  {
   "cell_type": "markdown",
   "id": "7a0a7264",
   "metadata": {},
   "source": [
    "### 4. Insert an element at the second position of a list."
   ]
  },
  {
   "cell_type": "code",
   "execution_count": null,
   "id": "61676023",
   "metadata": {},
   "outputs": [],
   "source": []
  },
  {
   "cell_type": "markdown",
   "id": "0f73e4bc",
   "metadata": {},
   "source": [
    "### 5. Sort a list of integers in descending order without using `sort()` or `sorted()`."
   ]
  },
  {
   "cell_type": "code",
   "execution_count": null,
   "id": "40ae25ed",
   "metadata": {},
   "outputs": [],
   "source": []
  },
  {
   "cell_type": "markdown",
   "id": "5c91eec9",
   "metadata": {},
   "source": [
    "### 6. Merge two lists into one without using `+` or `extend()`."
   ]
  },
  {
   "cell_type": "code",
   "execution_count": null,
   "id": "f20d2d59",
   "metadata": {},
   "outputs": [],
   "source": []
  },
  {
   "cell_type": "markdown",
   "id": "6c615807",
   "metadata": {},
   "source": [
    "### 7. Flatten a nested list: `[[1, 2], [3, 4], [5]]` into `[1, 2, 3, 4, 5]`."
   ]
  },
  {
   "cell_type": "code",
   "execution_count": null,
   "id": "de93f992",
   "metadata": {},
   "outputs": [],
   "source": []
  },
  {
   "cell_type": "markdown",
   "id": "1c6ba1ec",
   "metadata": {},
   "source": [
    "### 8. Remove duplicate elements from a list while maintaining order."
   ]
  },
  {
   "cell_type": "code",
   "execution_count": null,
   "id": "fd72baf1",
   "metadata": {},
   "outputs": [],
   "source": []
  },
  {
   "cell_type": "markdown",
   "id": "5088b7ab",
   "metadata": {},
   "source": [
    "### 9. Find the second largest number in a list."
   ]
  },
  {
   "cell_type": "code",
   "execution_count": null,
   "id": "3e4397aa",
   "metadata": {},
   "outputs": [],
   "source": []
  },
  {
   "cell_type": "markdown",
   "id": "05667cf8",
   "metadata": {},
   "source": [
    "### 10. Given a list of students and scores, filter students who scored more than 75."
   ]
  },
  {
   "cell_type": "code",
   "execution_count": null,
   "id": "6288d634",
   "metadata": {},
   "outputs": [],
   "source": []
  }
 ],
 "metadata": {
  "language_info": {
   "name": "python"
  }
 },
 "nbformat": 4,
 "nbformat_minor": 5
}
