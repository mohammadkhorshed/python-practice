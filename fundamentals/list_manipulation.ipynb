{
 "cells": [
  {
   "cell_type": "markdown",
   "id": "4a323598",
   "metadata": {},
   "source": [
    "# Python List Manipulation Practice\n",
    "\n",
    "This notebook includes **10 exercises** on Python **list manipulation** — from basic operations to advanced use cases.\n",
    "\n",
    "These exercises are crafted by ChatGPT to improve my command over:\n",
    "- Indexing and slicing\n",
    "- Insertion and deletion\n",
    "- Sorting, filtering, and nested lists\n",
    "- Real-life problem solving with lists\n",
    "\n",
    "✅ The problems were solved through my own efforts.\n",
    "\n",
    "---"
   ]
  },
  {
   "cell_type": "markdown",
   "id": "0c10d3a2",
   "metadata": {},
   "source": [
    "### 1. Reverse a list without using built-in reverse methods."
   ]
  },
  {
   "cell_type": "code",
   "execution_count": 5,
   "id": "2546a6bf",
   "metadata": {},
   "outputs": [
    {
     "data": {
      "text/plain": [
       "[20, 8, 6, 14, 2, 9, 17, 5, 3, 11]"
      ]
     },
     "execution_count": 5,
     "metadata": {},
     "output_type": "execute_result"
    }
   ],
   "source": [
    "def reverse_list(lst): # Remove the original list\n",
    "    reversed_list = []\n",
    "    for n in range(len(lst)):\n",
    "        last_item = lst.pop()\n",
    "        reversed_list.append(last_item)\n",
    "    return reversed_list\n",
    "\n",
    "my_list = [11, 3, 5, 17, 9, 2, 14, 6, 8, 20]\n",
    "reverse_list(my_list)"
   ]
  },
  {
   "cell_type": "code",
   "execution_count": 6,
   "id": "7d5231b9",
   "metadata": {},
   "outputs": [
    {
     "data": {
      "text/plain": [
       "[20, 8, 6, 14, 2, 9, 17, 5, 3, 11]"
      ]
     },
     "execution_count": 6,
     "metadata": {},
     "output_type": "execute_result"
    }
   ],
   "source": [
    "def reverse_list(lst): # Original list remains same\n",
    "    reversed_list = []\n",
    "    for n in range(1, len(lst) + 1):\n",
    "        reversed_list.append(lst[-n])\n",
    "    return reversed_list\n",
    "\n",
    "my_list = [11, 3, 5, 17, 9, 2, 14, 6, 8, 20]\n",
    "reverse_list(my_list)"
   ]
  },
  {
   "cell_type": "markdown",
   "id": "683338a6",
   "metadata": {},
   "source": [
    "### 2. Remove all occurrences of a specific element from a list."
   ]
  },
  {
   "cell_type": "code",
   "execution_count": 7,
   "id": "33d02809",
   "metadata": {},
   "outputs": [
    {
     "data": {
      "text/plain": [
       "[2, 3, 7, 5, 8, 9]"
      ]
     },
     "execution_count": 7,
     "metadata": {},
     "output_type": "execute_result"
    }
   ],
   "source": [
    "def remove_element(lst, ele):\n",
    "    for item in lst:\n",
    "        if item == ele:\n",
    "            lst.remove(item)\n",
    "    return lst\n",
    "\n",
    "my_list = [2, 4, 3, 4, 7, 5, 4, 8, 9]\n",
    "remove_element(my_list, 4)"
   ]
  },
  {
   "cell_type": "code",
   "execution_count": 8,
   "id": "4d77f87c",
   "metadata": {},
   "outputs": [
    {
     "data": {
      "text/plain": [
       "[2, 3, 7, 5, 8, 9]"
      ]
     },
     "execution_count": 8,
     "metadata": {},
     "output_type": "execute_result"
    }
   ],
   "source": [
    "def remove_element(lst, ele):\n",
    "    return [item for item in lst if item != ele]\n",
    "\n",
    "my_list = [2, 4, 3, 4, 7, 5, 4, 8, 9]\n",
    "remove_element(my_list, 4)"
   ]
  },
  {
   "cell_type": "markdown",
   "id": "941259cb",
   "metadata": {},
   "source": [
    "### 3. Extract all even numbers from a list using list comprehension."
   ]
  },
  {
   "cell_type": "code",
   "execution_count": 9,
   "id": "5d94c375",
   "metadata": {},
   "outputs": [
    {
     "data": {
      "text/plain": [
       "[2, 4, 6, 8, 0]"
      ]
     },
     "execution_count": 9,
     "metadata": {},
     "output_type": "execute_result"
    }
   ],
   "source": [
    "def even_list(lst):\n",
    "    return [n for n in lst if n % 2 == 0]\n",
    "\n",
    "my_list = [1, 2, 3, 4, 5, 6, 7, 8, 9, 0]\n",
    "even_list(my_list)"
   ]
  },
  {
   "cell_type": "markdown",
   "id": "7a0a7264",
   "metadata": {},
   "source": [
    "### 4. Insert an element at the second position of a list."
   ]
  },
  {
   "cell_type": "code",
   "execution_count": 12,
   "id": "61676023",
   "metadata": {},
   "outputs": [
    {
     "name": "stdout",
     "output_type": "stream",
     "text": [
      "['Black', 'Blue', 'Green', 'Red', 'White']\n"
     ]
    }
   ],
   "source": [
    "my_list = ['Black', 'Green', 'Red', 'White']\n",
    "my_list.insert(1, 'Blue')\n",
    "print(my_list)"
   ]
  },
  {
   "cell_type": "markdown",
   "id": "0f73e4bc",
   "metadata": {},
   "source": [
    "### 5. Sort a list of integers in descending order without using `sort()` or `sorted()`."
   ]
  },
  {
   "cell_type": "code",
   "execution_count": 15,
   "id": "40ae25ed",
   "metadata": {},
   "outputs": [
    {
     "data": {
      "text/plain": [
       "[1, 2, 3, 4, 5, 6, 7, 8, 9]"
      ]
     },
     "execution_count": 15,
     "metadata": {},
     "output_type": "execute_result"
    }
   ],
   "source": [
    "my_list = [3, 1, 9, 4, 7, 2, 5, 8, 6]\n",
    "\n",
    "def sort_list(lst):\n",
    "    for i in range(len(lst)):\n",
    "        min_idx = i\n",
    "        for j in range(i + 1, len(lst)):\n",
    "            if lst[j] < lst[min_idx]:\n",
    "                min_idx = j\n",
    "        lst[i], lst[min_idx] = lst[min_idx], lst[i]\n",
    "    return lst\n",
    "sort_list(my_list)\n"
   ]
  },
  {
   "cell_type": "markdown",
   "id": "5c91eec9",
   "metadata": {},
   "source": [
    "### 6. Merge two lists into one without using `+` or `extend()`."
   ]
  },
  {
   "cell_type": "code",
   "execution_count": null,
   "id": "f20d2d59",
   "metadata": {},
   "outputs": [
    {
     "data": {
      "text/plain": [
       "[1, 2, 3, 4, 5, 6, 7, 8]"
      ]
     },
     "execution_count": 1,
     "metadata": {},
     "output_type": "execute_result"
    }
   ],
   "source": [
    "def merge_lists(lst1, lst2): # Modify first list\n",
    "    for i in lst2:\n",
    "        lst1.append(i)\n",
    "    return lst1\n",
    "\n",
    "list_1 = [1, 2, 3, 4]\n",
    "list_2 = [5, 6, 7, 8]\n",
    "merge_lists(list_1, list_2)"
   ]
  },
  {
   "cell_type": "code",
   "execution_count": 3,
   "id": "50200353",
   "metadata": {},
   "outputs": [
    {
     "data": {
      "text/plain": [
       "[1, 2, 3, 4, 5, 6, 7, 8]"
      ]
     },
     "execution_count": 3,
     "metadata": {},
     "output_type": "execute_result"
    }
   ],
   "source": [
    "def merge_list(lst1, lst2): # Preserve original lists\n",
    "    return [*lst1, *lst2]\n",
    "\n",
    "list_1 = [1, 2, 3, 4]\n",
    "list_2 = [5, 6, 7, 8]\n",
    "merge_list(list_1, list_2)"
   ]
  },
  {
   "cell_type": "markdown",
   "id": "6c615807",
   "metadata": {},
   "source": [
    "### 7. Flatten a nested list: `[[1, 2], [3, 4], [5]]` into `[1, 2, 3, 4, 5]`."
   ]
  },
  {
   "cell_type": "code",
   "execution_count": 5,
   "id": "de93f992",
   "metadata": {},
   "outputs": [
    {
     "data": {
      "text/plain": [
       "[1, 2, 3, 4, 5, 6, 7]"
      ]
     },
     "execution_count": 5,
     "metadata": {},
     "output_type": "execute_result"
    }
   ],
   "source": [
    "def flatten_list(nested_list):\n",
    "    flattened_list = []\n",
    "    for item in nested_list:\n",
    "        if isinstance(item, list):\n",
    "            flattened_list.extend(flatten_list(item))\n",
    "        else:\n",
    "            flattened_list.append(item)\n",
    "    return flattened_list\n",
    "\n",
    "my_list = [[1, 2], [3, 4], [5, [6, 7]]]\n",
    "flatten_list(my_list)"
   ]
  },
  {
   "cell_type": "markdown",
   "id": "1c6ba1ec",
   "metadata": {},
   "source": [
    "### 8. Remove duplicate elements from a list while maintaining order."
   ]
  },
  {
   "cell_type": "code",
   "execution_count": null,
   "id": "fd72baf1",
   "metadata": {},
   "outputs": [],
   "source": []
  },
  {
   "cell_type": "markdown",
   "id": "5088b7ab",
   "metadata": {},
   "source": [
    "### 9. Find the second largest number in a list."
   ]
  },
  {
   "cell_type": "code",
   "execution_count": null,
   "id": "3e4397aa",
   "metadata": {},
   "outputs": [],
   "source": []
  },
  {
   "cell_type": "markdown",
   "id": "05667cf8",
   "metadata": {},
   "source": [
    "### 10. Given a list of students and scores, filter students who scored more than 75."
   ]
  },
  {
   "cell_type": "code",
   "execution_count": null,
   "id": "6288d634",
   "metadata": {},
   "outputs": [],
   "source": []
  }
 ],
 "metadata": {
  "kernelspec": {
   "display_name": "Python 3",
   "language": "python",
   "name": "python3"
  },
  "language_info": {
   "codemirror_mode": {
    "name": "ipython",
    "version": 3
   },
   "file_extension": ".py",
   "mimetype": "text/x-python",
   "name": "python",
   "nbconvert_exporter": "python",
   "pygments_lexer": "ipython3",
   "version": "3.13.3"
  }
 },
 "nbformat": 4,
 "nbformat_minor": 5
}
