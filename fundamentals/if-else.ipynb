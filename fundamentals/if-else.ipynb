{
 "cells": [
  {
   "cell_type": "markdown",
   "id": "ce51c971",
   "metadata": {},
   "source": [
    "# Python `if-else` Practice Exercises\n",
    "\n",
    "This notebook (only problems) is designed by ChatGPT to help me gain strong command over Python `if`, `elif`, and `else` statements. \n",
    "It starts with basic level problems and gradually introduces real-life logical tasks to help me become confident in writing conditional logic in Python.\n",
    "\n",
    "🔹 All the problems were solved through my own efforts.\n",
    "\n",
    "---\n",
    "\n",
    "## Let's begin!\n"
   ]
  },
  {
   "cell_type": "markdown",
   "id": "901a4a22",
   "metadata": {},
   "source": [
    "### Exercise 1:\n",
    "Check whether a number is positive, negative, or zero.\n",
    "\n",
    "```python\n",
    "# Write your code below\n",
    "number = 5\n",
    "```"
   ]
  },
  {
   "cell_type": "code",
   "execution_count": 1,
   "id": "a65d3864",
   "metadata": {},
   "outputs": [
    {
     "name": "stdout",
     "output_type": "stream",
     "text": [
      "5 is Positive!\n"
     ]
    }
   ],
   "source": [
    "num = int(input('Enter a number:'))\n",
    "\n",
    "if num > 0:\n",
    "    print(f'{num} is Positive!')\n",
    "\n",
    "elif num < 0:\n",
    "    print(f'{num} is Negative!')\n",
    "\n",
    "elif num == 0:\n",
    "    print(f'{num} is Zero!')"
   ]
  },
  {
   "cell_type": "markdown",
   "id": "28cd5b7e",
   "metadata": {},
   "source": [
    "### Exercise 2:\n",
    "Check if a number is even or odd.\n",
    "\n",
    "```python\n",
    "# Write your code below\n",
    "number = 10\n",
    "```"
   ]
  },
  {
   "cell_type": "code",
   "execution_count": 6,
   "id": "d61a3f5b",
   "metadata": {},
   "outputs": [
    {
     "name": "stdout",
     "output_type": "stream",
     "text": [
      "10 a Even Number!\n"
     ]
    }
   ],
   "source": [
    "num = int(input('Enter a number:'))\n",
    "\n",
    "print(f'{num} a Even Number!' if num % 2 == 0 else f'{num} is a Odd Number!')"
   ]
  },
  {
   "cell_type": "markdown",
   "id": "7a0cb9d8",
   "metadata": {},
   "source": [
    "### Exercise 3:\n",
    "Determine if a person is eligible to vote (age 18 or above).\n",
    "\n",
    "```python\n",
    "# Write your code below\n",
    "age = 17\n",
    "```"
   ]
  },
  {
   "cell_type": "code",
   "execution_count": 7,
   "id": "82a64130",
   "metadata": {},
   "outputs": [
    {
     "name": "stdout",
     "output_type": "stream",
     "text": [
      "You are not eligible to vote!\n"
     ]
    }
   ],
   "source": [
    "age = int(input('Enter your age:'))\n",
    "\n",
    "print('You are eligible to vote!' if age >= 18 else 'You are not eligible to vote!')"
   ]
  },
  {
   "cell_type": "markdown",
   "id": "9b629bde",
   "metadata": {},
   "source": [
    "### Exercise 4:\n",
    "Find the greatest of two numbers.\n",
    "\n",
    "```python\n",
    "# Write your code below\n",
    "a, b = 4, 9\n",
    "```"
   ]
  },
  {
   "cell_type": "code",
   "execution_count": 8,
   "id": "009032eb",
   "metadata": {},
   "outputs": [
    {
     "name": "stdout",
     "output_type": "stream",
     "text": [
      "Greatest number is 9\n"
     ]
    }
   ],
   "source": [
    "a, b = 4, 9\n",
    "\n",
    "if a  > b:\n",
    "    greatest_num = a\n",
    "\n",
    "else:\n",
    "    greatest_num = b\n",
    "\n",
    "print(f'Greatest number is {greatest_num}')"
   ]
  },
  {
   "cell_type": "markdown",
   "id": "382740e6",
   "metadata": {},
   "source": [
    "### Exercise 5:\n",
    "Check whether a character is a vowel or consonant.\n",
    "\n",
    "```python\n",
    "# Write your code below\n",
    "char = 'e'\n",
    "```"
   ]
  },
  {
   "cell_type": "code",
   "execution_count": 10,
   "id": "9c8d03f2",
   "metadata": {},
   "outputs": [
    {
     "name": "stdout",
     "output_type": "stream",
     "text": [
      "This character is Vowel!\n"
     ]
    }
   ],
   "source": [
    "char = input('Enter a character:')\n",
    "\n",
    "print('This character is Vowel!' if char.lower() in 'aeiou' else 'This character is Consonant!')"
   ]
  },
  {
   "cell_type": "markdown",
   "id": "f4afa471",
   "metadata": {},
   "source": [
    "### Exercise 6:\n",
    "Check if a year is a leap year.\n",
    "\n",
    "```python\n",
    "# Write your code below\n",
    "year = 2024\n",
    "```"
   ]
  },
  {
   "cell_type": "code",
   "execution_count": 21,
   "id": "e7241c64",
   "metadata": {},
   "outputs": [
    {
     "name": "stdout",
     "output_type": "stream",
     "text": [
      "2024 is a leap year!\n"
     ]
    }
   ],
   "source": [
    "year = int(input('Year:'))\n",
    "\n",
    "if year % 4 == 0  and (year % 100 != 0 or year % 400 == 0):\n",
    "    print(f'{year} is a leap year!')\n",
    "\n",
    "else:\n",
    "    print(f'{year} is not a leap year!')"
   ]
  },
  {
   "cell_type": "markdown",
   "id": "985ac16b",
   "metadata": {},
   "source": [
    "### Exercise 7:\n",
    "Classify a grade based on percentage:\n",
    "- 90+ => A\n",
    "- 80–89 => B\n",
    "- 70–79 => C\n",
    "- below 70 => D\n",
    "\n",
    "```python\n",
    "# Write your code below\n",
    "percentage = 82\n",
    "```"
   ]
  },
  {
   "cell_type": "code",
   "execution_count": null,
   "id": "6c59a4d4",
   "metadata": {},
   "outputs": [
    {
     "name": "stdout",
     "output_type": "stream",
     "text": [
      "Grade: D\n"
     ]
    }
   ],
   "source": [
    "percentage = int(input('Percentage:'))\n",
    "\n",
    "\n",
    "if percentage >= 90:\n",
    "    print('Grade: A')\n",
    "\n",
    "elif 80 <= percentage < 90:\n",
    "    print('Grade: B')\n",
    "\n",
    "elif 70 <= percentage < 80:\n",
    "    print('Grade: C')\n",
    "\n",
    "elif percentage < 70:\n",
    "    print('Grade: D')"
   ]
  },
  {
   "cell_type": "code",
   "execution_count": 25,
   "id": "f713d2dd",
   "metadata": {},
   "outputs": [
    {
     "name": "stdout",
     "output_type": "stream",
     "text": [
      "Grade: B\n"
     ]
    }
   ],
   "source": [
    "#solution using grade map\n",
    "\n",
    "percentage = int(input('Percentage:'))\n",
    "\n",
    "grade_map = {\n",
    "    (90, 100)   : 'A',\n",
    "    (80, 89)    : 'B',\n",
    "    (70, 79)    : 'C',\n",
    "    (0, 69)     : 'D'\n",
    "}\n",
    "\n",
    "assigned_grade = None\n",
    "\n",
    "for (low, hight), grade in grade_map.items():\n",
    "    if low <= percentage <= hight:\n",
    "        assigned_grade = grade\n",
    "\n",
    "\n",
    "print(f'Grade: {assigned_grade}' if assigned_grade is not None else 'Error: Percentage must be 0-100')\n"
   ]
  },
  {
   "cell_type": "markdown",
   "id": "c073fe98",
   "metadata": {},
   "source": [
    "### Exercise 8:\n",
    "Check if a person can drive:\n",
    "- age must be 18 or older\n",
    "- must have a valid license (True/False)\n",
    "\n",
    "```python\n",
    "# Write your code below\n",
    "age = 19\n",
    "has_license = True\n",
    "```"
   ]
  },
  {
   "cell_type": "code",
   "execution_count": null,
   "id": "f3143c68",
   "metadata": {},
   "outputs": [
    {
     "name": "stdout",
     "output_type": "stream",
     "text": [
      "You can drive!\n"
     ]
    }
   ],
   "source": [
    "#solution-1 (simple)\n",
    "\n",
    "age = int(input('Age: '))\n",
    "has_license_input = input('Valid license (Yes/No): ').lower()\n",
    "has_license = has_license_input == 'yes'\n",
    "\n",
    "if age >= 18 and has_license:\n",
    "    print('You can drive!')\n",
    "\n",
    "else:\n",
    "    print('You cannot drive!')"
   ]
  },
  {
   "cell_type": "code",
   "execution_count": null,
   "id": "8cd0be77",
   "metadata": {},
   "outputs": [
    {
     "name": "stdout",
     "output_type": "stream",
     "text": [
      "You are eligible to drive!\n"
     ]
    }
   ],
   "source": [
    "#solution using loop-input with error management (Help of DeepSeek was taken)\n",
    "\n",
    "while True:\n",
    "    try:\n",
    "        age = int(input('Age: '))\n",
    "        if age > 0:\n",
    "            break\n",
    "        print('Age must be positive!')\n",
    "    except ValueError:\n",
    "        print('Please enter a valid number!\\nExample: 24')\n",
    "\n",
    "while True:\n",
    "    license_input = input('Do you have a valid license? (Yes/No)').strip().lower()\n",
    "\n",
    "    if license_input in ('yes', 'y', 'no', 'n'):\n",
    "        has_license = license_input in ('yes', 'y')\n",
    "        break\n",
    "    print('Please answer in Yes or No!')\n",
    "\n",
    "if (age >= 18) and has_license:\n",
    "    print('You are eligible to drive!')\n",
    "\n",
    "else:\n",
    "    print('You are not eligible to drive!')\n",
    "    if age < 18:\n",
    "        print('Minimum age is 18!')\n",
    "    if not has_license:\n",
    "        print('Valid license required!')"
   ]
  },
  {
   "cell_type": "markdown",
   "id": "54f56ac3",
   "metadata": {},
   "source": [
    "### Exercise 9:\n",
    "Determine if a number is divisible by both 3 and 5.\n",
    "\n",
    "```python\n",
    "# Write your code below\n",
    "number = 15\n",
    "```"
   ]
  },
  {
   "cell_type": "code",
   "execution_count": 24,
   "id": "0144bc53",
   "metadata": {},
   "outputs": [
    {
     "name": "stdout",
     "output_type": "stream",
     "text": [
      "Number is divisible by both 3 and 5!\n"
     ]
    }
   ],
   "source": [
    "num = 15\n",
    "\n",
    "if (num % 3 == 0) and (num % 5 == 0):\n",
    "    print('Number is divisible by both 3 and 5!')\n",
    "\n",
    "else:\n",
    "    print('Number is not divisible by both 3 and 5!')"
   ]
  },
  {
   "cell_type": "markdown",
   "id": "b60685f7",
   "metadata": {},
   "source": [
    "### Exercise 10:\n",
    "Compare three numbers and find the largest.\n",
    "\n",
    "```python\n",
    "# Write your code below\n",
    "a, b, c = 10, 20, 15\n",
    "```"
   ]
  },
  {
   "cell_type": "code",
   "execution_count": 25,
   "id": "6ce4e51d",
   "metadata": {},
   "outputs": [
    {
     "name": "stdout",
     "output_type": "stream",
     "text": [
      "Largest number is 20\n"
     ]
    }
   ],
   "source": [
    "a, b, c = 10, 20, 15\n",
    "\n",
    "if (a > b) and (a > c):\n",
    "    largest = a\n",
    "\n",
    "elif (b > a) and (b > c):\n",
    "    largest = b\n",
    "\n",
    "else:\n",
    "    largest = c\n",
    "\n",
    "print(f'Largest number is {largest}')"
   ]
  },
  {
   "cell_type": "markdown",
   "id": "24eb38fa",
   "metadata": {},
   "source": [
    "### Exercise 11:\n",
    "Check if a string contains more vowels or consonants.\n",
    "\n",
    "```python\n",
    "# Write your code below\n",
    "text = 'Python'\n",
    "```"
   ]
  },
  {
   "cell_type": "code",
   "execution_count": 31,
   "id": "66c63b93",
   "metadata": {},
   "outputs": [
    {
     "name": "stdout",
     "output_type": "stream",
     "text": [
      "String: Python\n",
      "Number of Vowel(s): 1\n",
      "Number of Consonant(s): 5\n",
      "This string contains more consonants than vowels!\n"
     ]
    }
   ],
   "source": [
    "#solution-1\n",
    "\n",
    "text = input('Enter a string:')\n",
    "\n",
    "count_vowel = 0\n",
    "count_consonant = 0\n",
    "\n",
    "for c in text:\n",
    "    if c.lower() in 'aeiou':\n",
    "        count_vowel += 1\n",
    "    else:\n",
    "        count_consonant += 1\n",
    "\n",
    "print(f'String: {text}')\n",
    "print(f'Number of Vowel(s): {count_vowel}')\n",
    "print(f'Number of Consonant(s): {count_consonant}')\n",
    "\n",
    "if count_vowel > count_consonant:\n",
    "    print('This string contains more vowels than consonants!')\n",
    "\n",
    "else:\n",
    "    print('This string contains more consonants than vowels!')"
   ]
  },
  {
   "cell_type": "code",
   "execution_count": 30,
   "id": "97ce3192",
   "metadata": {},
   "outputs": [
    {
     "name": "stdout",
     "output_type": "stream",
     "text": [
      "Vowel(s): 1, Consonant(s): 5\n",
      "This string contains more consonants than vowels!\n"
     ]
    }
   ],
   "source": [
    "#solution-2\n",
    "\n",
    "text = input('Enter a string:').strip()\n",
    "\n",
    "vowel_set = {'a', 'e', 'i', 'o', 'u'}\n",
    "\n",
    "vowels = sum(1 for char in text if char.lower() in vowel_set)\n",
    "consonants = len([char for char in text if char.isalpha()]) - vowels\n",
    "\n",
    "print(f'Vowel(s): {vowels}, Consonant(s): {consonants}')\n",
    "\n",
    "print('This string contains more vowels than consonants!' if vowels > consonants else 'This string contains more consonants than vowels!')"
   ]
  },
  {
   "cell_type": "markdown",
   "id": "232fafd6",
   "metadata": {},
   "source": [
    "### Exercise 12:\n",
    "Check if a given year is a century year (divisible by 100).\n",
    "\n",
    "```python\n",
    "# Write your code below\n",
    "year = 2000\n",
    "```"
   ]
  },
  {
   "cell_type": "code",
   "execution_count": 33,
   "id": "db48cccf",
   "metadata": {},
   "outputs": [
    {
     "name": "stdout",
     "output_type": "stream",
     "text": [
      "This year is a century year!\n"
     ]
    }
   ],
   "source": [
    "year = 2000\n",
    "\n",
    "if year % 100 == 0:\n",
    "    print('This year is a century year!')\n",
    "\n",
    "else:\n",
    "    print('Not a century year!')"
   ]
  },
  {
   "cell_type": "markdown",
   "id": "56dc8643",
   "metadata": {},
   "source": [
    "### Exercise 13:\n",
    "You are given temperature in Celsius. Suggest:\n",
    "- 'Cold' if < 10\n",
    "- 'Pleasant' if 10–25\n",
    "- 'Hot' if > 25\n",
    "\n",
    "```python\n",
    "# Write your code below\n",
    "temp = 22\n",
    "```"
   ]
  },
  {
   "cell_type": "code",
   "execution_count": 34,
   "id": "20a290a7",
   "metadata": {},
   "outputs": [
    {
     "name": "stdout",
     "output_type": "stream",
     "text": [
      "Pleasant\n"
     ]
    }
   ],
   "source": [
    "temp = int(input('Temperature in Celsius: '))\n",
    "\n",
    "if temp < 10:\n",
    "    print('Cold')\n",
    "\n",
    "elif 10 <= temp <=25:\n",
    "    print('Pleasant')\n",
    "\n",
    "elif temp>25:\n",
    "    print('Hot')"
   ]
  },
  {
   "cell_type": "markdown",
   "id": "f6a81067",
   "metadata": {},
   "source": [
    "### Exercise 14:\n",
    "Check if a string is a palindrome.\n",
    "\n",
    "```python\n",
    "# Write your code below\n",
    "text = 'madam'\n",
    "```"
   ]
  },
  {
   "cell_type": "code",
   "execution_count": 36,
   "id": "4ea95e7c",
   "metadata": {},
   "outputs": [
    {
     "name": "stdout",
     "output_type": "stream",
     "text": [
      "Palindrome\n"
     ]
    }
   ],
   "source": [
    "text = input('Enter a string:')\n",
    "\n",
    "if text.lower() == text[::-1].lower():\n",
    "    print('Palindrome')\n",
    "\n",
    "else:\n",
    "    print('Not palindrome')"
   ]
  },
  {
   "cell_type": "markdown",
   "id": "b71ca3d2",
   "metadata": {},
   "source": [
    "### Exercise 15:\n",
    "Check whether a number lies between 50 and 100 (inclusive).\n",
    "\n",
    "```python\n",
    "# Write your code below\n",
    "number = 75\n",
    "```"
   ]
  },
  {
   "cell_type": "code",
   "execution_count": 41,
   "id": "e5a5f0c8",
   "metadata": {},
   "outputs": [
    {
     "name": "stdout",
     "output_type": "stream",
     "text": [
      "75 lies between 50 and 100!\n"
     ]
    }
   ],
   "source": [
    "num = 75\n",
    "\n",
    "if num in range(50,101):\n",
    "    print(f'{num} lies between 50 and 100!')\n",
    "\n",
    "else:\n",
    "    print(f'{num} does not lie between 50 and 100!')"
   ]
  },
  {
   "cell_type": "markdown",
   "id": "989f9953",
   "metadata": {},
   "source": [
    "### Exercise 16:\n",
    "Check if a username is valid:\n",
    "- At least 6 characters\n",
    "- Does not contain spaces\n",
    "\n",
    "```python\n",
    "# Write your code below\n",
    "username = 'user_1'\n",
    "```"
   ]
  },
  {
   "cell_type": "code",
   "execution_count": 45,
   "id": "5de9032f",
   "metadata": {},
   "outputs": [
    {
     "name": "stdout",
     "output_type": "stream",
     "text": [
      "Username is valid!\n"
     ]
    }
   ],
   "source": [
    "username = input('Username: ')\n",
    "\n",
    "if (len(username) >= 6) and (' ' not in username):\n",
    "    print('Username is valid!')\n",
    "\n",
    "else:\n",
    "    print('Username is invalid!')"
   ]
  },
  {
   "cell_type": "markdown",
   "id": "26506d05",
   "metadata": {},
   "source": [
    "### Exercise 17:\n",
    "Decide loan approval:\n",
    "- income >= 25000\n",
    "- credit_score >= 650\n",
    "\n",
    "```python\n",
    "# Write your code below\n",
    "income = 30000\n",
    "credit_score = 700\n",
    "```"
   ]
  },
  {
   "cell_type": "code",
   "execution_count": 46,
   "id": "3dc2427a",
   "metadata": {},
   "outputs": [
    {
     "name": "stdout",
     "output_type": "stream",
     "text": [
      "Loan is approved!\n"
     ]
    }
   ],
   "source": [
    "income = int(input('Income: '))\n",
    "credit_score = int(input('Credit Score: '))\n",
    "\n",
    "if (income >= 25000) and (credit_score >= 650):\n",
    "    print('Loan is approved!')\n",
    "\n",
    "else:\n",
    "    print('Loan is not approved!')"
   ]
  },
  {
   "cell_type": "markdown",
   "id": "ce68d992",
   "metadata": {},
   "source": [
    "### Exercise 18:\n",
    "Check if a number is a prime number.\n",
    "\n",
    "```python\n",
    "# Write your code below\n",
    "number = 13\n",
    "```"
   ]
  },
  {
   "cell_type": "code",
   "execution_count": 32,
   "id": "cd0d3dcd",
   "metadata": {},
   "outputs": [
    {
     "data": {
      "text/plain": [
       "True"
      ]
     },
     "execution_count": 32,
     "metadata": {},
     "output_type": "execute_result"
    }
   ],
   "source": [
    "def is_prime(num):\n",
    "    if num == 2:\n",
    "        return True\n",
    "    if num <= 1 or (num % 2 == 0 and num != 2):\n",
    "        return False\n",
    "    for i in range(3, int(num**0.5) + 1, 2):\n",
    "        if num % i == 0:\n",
    "            return False\n",
    "    return True\n",
    "\n",
    "is_prime(13)\n",
    "\n"
   ]
  },
  {
   "cell_type": "markdown",
   "id": "9f8b6c9a",
   "metadata": {},
   "source": [
    "### Exercise 19:\n",
    "Check if the first and last characters of a string are the same.\n",
    "\n",
    "```python\n",
    "# Write your code below\n",
    "word = 'radar'\n",
    "```"
   ]
  },
  {
   "cell_type": "code",
   "execution_count": 47,
   "id": "2f8a3c61",
   "metadata": {},
   "outputs": [
    {
     "name": "stdout",
     "output_type": "stream",
     "text": [
      "Same\n"
     ]
    }
   ],
   "source": [
    "word = 'radar'\n",
    "\n",
    "if word[0] == word[-1]:\n",
    "    print('Same')\n",
    "\n",
    "else:\n",
    "    print('Not same')"
   ]
  },
  {
   "cell_type": "markdown",
   "id": "50a7fafb",
   "metadata": {},
   "source": [
    "### Exercise 20:\n",
    "Validate a password:\n",
    "- At least 8 characters\n",
    "- Must contain a number\n",
    "- Must contain a capital letter\n",
    "\n",
    "```python\n",
    "# Write your code below\n",
    "password = 'Python123'\n",
    "```"
   ]
  },
  {
   "cell_type": "code",
   "execution_count": 33,
   "id": "a0fff9c0",
   "metadata": {},
   "outputs": [
    {
     "name": "stdout",
     "output_type": "stream",
     "text": [
      "Password is valid!\n"
     ]
    }
   ],
   "source": [
    "#solution-1\n",
    "\n",
    "password = input('Password: ')\n",
    "\n",
    "num_of_char = len(password)\n",
    "count_number = 0\n",
    "count_cap = 0\n",
    "\n",
    "for c in password:\n",
    "    if c.isdigit():\n",
    "        count_number += 1\n",
    "    elif c.isupper():\n",
    "        count_cap += 1\n",
    "\n",
    "if (num_of_char >= 8) and (count_number >= 1) and (count_cap >= 1):\n",
    "    print('Password is valid!')\n",
    "\n",
    "else:\n",
    "    print('Password is invalid!')"
   ]
  },
  {
   "cell_type": "code",
   "execution_count": 34,
   "id": "3f2f55b1",
   "metadata": {},
   "outputs": [
    {
     "data": {
      "text/plain": [
       "True"
      ]
     },
     "execution_count": 34,
     "metadata": {},
     "output_type": "execute_result"
    }
   ],
   "source": [
    "#solution-2\n",
    "\n",
    "def validate_password(password):\n",
    "    return(\n",
    "        len(password) >= 8 and\n",
    "        any(c.isdigit() for c in password) and\n",
    "        any(c.isupper() for c in password)\n",
    "    )\n",
    "\n",
    "validate_password('Python123')"
   ]
  },
  {
   "cell_type": "code",
   "execution_count": 37,
   "id": "7e575aeb",
   "metadata": {},
   "outputs": [
    {
     "name": "stdout",
     "output_type": "stream",
     "text": [
      "Password Requirements:\n",
      "- At least 8 characters\n",
      "- Contains at least one number\n",
      "- Contains at least one uppercase letter\n",
      "\n",
      "\n",
      "✅ Password is valid!\n"
     ]
    }
   ],
   "source": [
    "#Solution-3 (Extended - help of DeepSeek was taken)\n",
    "\n",
    "def validate_password(password):\n",
    "    if len(password) < 8:\n",
    "        return False, \"Password must be at least 8 characters long\"\n",
    "    \n",
    "    has_number = any(char.isdigit() for char in password)\n",
    "    has_upper = any(char.isupper() for char in password)\n",
    "\n",
    "    if not has_number:\n",
    "        return False, \"Password must contain at least one number\"\n",
    "    if not has_upper:\n",
    "        return False, \"Password must contain at least one uppercase letter\"\n",
    "    \n",
    "    return True, \"Password is valid!\"\n",
    "\n",
    "def main():\n",
    "    print(\"Password Requirements:\")\n",
    "    print(\"- At least 8 characters\")\n",
    "    print(\"- Contains at least one number\")\n",
    "    print(\"- Contains at least one uppercase letter\")\n",
    "    print(\"\")\n",
    "\n",
    "    while True:\n",
    "        password = input('Enter your password: ')\n",
    "        is_valid, message = validate_password(password)\n",
    "\n",
    "        if is_valid:\n",
    "            print(f'\\n✅ {message}')\n",
    "            break\n",
    "        else:\n",
    "            print(f'\\n❌ {message}')\n",
    "            print('Please try again! \\n')\n",
    "\n",
    "\n",
    "main()"
   ]
  },
  {
   "cell_type": "markdown",
   "id": "b3275641",
   "metadata": {},
   "source": [
    "### Exercise 21:\n",
    "Check if a number is a multiple of another.\n",
    "\n",
    "```python\n",
    "# Write your code below\n",
    "a, b = 20, 5\n",
    "```"
   ]
  },
  {
   "cell_type": "code",
   "execution_count": 38,
   "id": "c81b77da",
   "metadata": {},
   "outputs": [
    {
     "name": "stdout",
     "output_type": "stream",
     "text": [
      "20 is a multiple of 5!\n"
     ]
    }
   ],
   "source": [
    "a, b = 20, 5\n",
    "\n",
    "if a % b == 0:\n",
    "    print(f'{a} is a multiple of {b}!')\n",
    "\n",
    "elif b % a == 0:\n",
    "    print(f'{b} is a multiple of {a}!')\n",
    "\n",
    "else:\n",
    "    print(f'{a} and {b} are not a multiple of another!')"
   ]
  },
  {
   "cell_type": "markdown",
   "id": "9f175285",
   "metadata": {},
   "source": [
    "### Exercise 22:\n",
    "Classify triangle type from three sides:\n",
    "- Equilateral, Isosceles, or Scalene\n",
    "\n",
    "```python\n",
    "# Write your code below\n",
    "a, b, c = 3, 3, 3\n",
    "```"
   ]
  },
  {
   "cell_type": "code",
   "execution_count": 6,
   "id": "2c3a656b",
   "metadata": {},
   "outputs": [
    {
     "name": "stdout",
     "output_type": "stream",
     "text": [
      "This is a Equilateral Triangle!\n"
     ]
    }
   ],
   "source": [
    "a, b, c = 3, 3, 3\n",
    "\n",
    "if a == b == c:\n",
    "    print('This is a Equilateral Triangle!')\n",
    "\n",
    "elif (a == b) or (b == c) or (a == c):\n",
    "    print('This is a Isosceles Triangle!')\n",
    "\n",
    "else:\n",
    "    print('This is a Scalene Triangle!')\n"
   ]
  },
  {
   "cell_type": "markdown",
   "id": "395d2a39",
   "metadata": {},
   "source": [
    "### Exercise 23:\n",
    "If a number is less than 100 or greater than 1000, print 'Out of range'.\n",
    "\n",
    "```python\n",
    "# Write your code below\n",
    "num = 1500\n",
    "```"
   ]
  },
  {
   "cell_type": "code",
   "execution_count": 39,
   "id": "6aea66fa",
   "metadata": {},
   "outputs": [
    {
     "name": "stdout",
     "output_type": "stream",
     "text": [
      "Out of range\n"
     ]
    }
   ],
   "source": [
    "def checkRange(num):\n",
    "    print('Out of range' if num < 100 or num > 1000 else 'In range')\n",
    "\n",
    "checkRange(1500)"
   ]
  },
  {
   "cell_type": "markdown",
   "id": "08fbe1a6",
   "metadata": {},
   "source": [
    "### Exercise 24:\n",
    "Check if a number has exactly 3 digits.\n",
    "\n",
    "```python\n",
    "# Write your code below\n",
    "num = 123\n",
    "```"
   ]
  },
  {
   "cell_type": "code",
   "execution_count": 12,
   "id": "133791a5",
   "metadata": {},
   "outputs": [
    {
     "name": "stdout",
     "output_type": "stream",
     "text": [
      "This number has 3 digits!\n"
     ]
    }
   ],
   "source": [
    "num = 123\n",
    "\n",
    "if num / 100 >= 1 and num / 100 < 10:\n",
    "    print('This number has 3 digits!')\n",
    "\n",
    "else:\n",
    "    print('This number does not have 3 digits!')\n"
   ]
  },
  {
   "cell_type": "markdown",
   "id": "c593d9c6",
   "metadata": {},
   "source": [
    "### Exercise 25:\n",
    "Based on day of week (1–7), print weekday name.\n",
    "\n",
    "```python\n",
    "# Write your code below\n",
    "day = 3\n",
    "```"
   ]
  },
  {
   "cell_type": "code",
   "execution_count": 40,
   "id": "6a1db26c",
   "metadata": {},
   "outputs": [
    {
     "name": "stdout",
     "output_type": "stream",
     "text": [
      "Wednesday\n"
     ]
    }
   ],
   "source": [
    "#solution-1\n",
    "\n",
    "def weekdayName(day):\n",
    "    if day == 1:\n",
    "        print('Monday')\n",
    "    elif day == 2:\n",
    "        print('Tuesday')\n",
    "    elif day == 3:\n",
    "        print('Wednesday')\n",
    "    elif day == 4:\n",
    "        print('Thursday')\n",
    "    elif day == 5:\n",
    "        print('Friday')\n",
    "    elif day == 6:\n",
    "        print('Saturday')\n",
    "    elif day == 7:\n",
    "        print('Sunday')\n",
    "    else:\n",
    "        print('Invalid')\n",
    "\n",
    "weekdayName(3)"
   ]
  },
  {
   "cell_type": "code",
   "execution_count": null,
   "id": "bdc0aaf1",
   "metadata": {},
   "outputs": [
    {
     "name": "stdout",
     "output_type": "stream",
     "text": [
      "Friday\n"
     ]
    }
   ],
   "source": [
    "#solution-2 (using list)\n",
    "\n",
    "weekdays = ['Monday', 'Tuesday', 'Wednesday', 'Thursday', 'Friday', 'Saturday', 'Sunday']\n",
    "\n",
    "def weekdayCheck(day):\n",
    "    print(weekdays[day - 1] if 1 <= day <= 7 else 'Invalid')\n",
    "\n",
    "weekdayCheck(5)"
   ]
  }
 ],
 "metadata": {
  "kernelspec": {
   "display_name": "Python 3",
   "language": "python",
   "name": "python3"
  },
  "language_info": {
   "codemirror_mode": {
    "name": "ipython",
    "version": 3
   },
   "file_extension": ".py",
   "mimetype": "text/x-python",
   "name": "python",
   "nbconvert_exporter": "python",
   "pygments_lexer": "ipython3",
   "version": "3.13.3"
  }
 },
 "nbformat": 4,
 "nbformat_minor": 5
}
