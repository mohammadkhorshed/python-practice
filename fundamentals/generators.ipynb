{
 "cells": [
  {
   "cell_type": "markdown",
   "id": "9ad9d048",
   "metadata": {},
   "source": [
    "# Python Generators Practice\n",
    "\n",
    "This notebook contains **10 exercises** on **Python generators**, from basic syntax to advanced use cases.\n",
    "\n",
    "💡 Generators are memory-efficient and useful for handling large datasets or streams of data.\n",
    "\n",
    "✅ The problems were solved through my own efforts.\n",
    "\n",
    "---"
   ]
  },
  {
   "cell_type": "markdown",
   "id": "287bbc48",
   "metadata": {},
   "source": [
    "### 1. Create a generator that yields numbers from 1 to 10."
   ]
  },
  {
   "cell_type": "code",
   "execution_count": null,
   "id": "d243b818",
   "metadata": {},
   "outputs": [],
   "source": []
  },
  {
   "cell_type": "markdown",
   "id": "b8cd02bc",
   "metadata": {},
   "source": [
    "### 2. Create a generator that yields even numbers up to a given number."
   ]
  },
  {
   "cell_type": "code",
   "execution_count": null,
   "id": "95bc36b9",
   "metadata": {},
   "outputs": [],
   "source": []
  },
  {
   "cell_type": "markdown",
   "id": "8b05dfce",
   "metadata": {},
   "source": [
    "### 3. Create a generator that yields Fibonacci numbers up to a certain count."
   ]
  },
  {
   "cell_type": "code",
   "execution_count": null,
   "id": "0fa822d5",
   "metadata": {},
   "outputs": [],
   "source": []
  },
  {
   "cell_type": "markdown",
   "id": "f6870dd4",
   "metadata": {},
   "source": [
    "### 4. Write a generator expression that returns the square of numbers in a list."
   ]
  },
  {
   "cell_type": "code",
   "execution_count": null,
   "id": "9e2bb6cc",
   "metadata": {},
   "outputs": [],
   "source": []
  },
  {
   "cell_type": "markdown",
   "id": "f04a269f",
   "metadata": {},
   "source": [
    "### 5. Create a generator to yield characters in a string one by one."
   ]
  },
  {
   "cell_type": "code",
   "execution_count": null,
   "id": "98e73222",
   "metadata": {},
   "outputs": [],
   "source": []
  },
  {
   "cell_type": "markdown",
   "id": "13a116d1",
   "metadata": {},
   "source": [
    "### 6. Write a generator that yields all prime numbers up to `n`."
   ]
  },
  {
   "cell_type": "code",
   "execution_count": null,
   "id": "b6d2b402",
   "metadata": {},
   "outputs": [],
   "source": []
  },
  {
   "cell_type": "markdown",
   "id": "cae6e8b4",
   "metadata": {},
   "source": [
    "### 7. Create a generator to read lines from a text file one at a time."
   ]
  },
  {
   "cell_type": "code",
   "execution_count": null,
   "id": "f71cb0fe",
   "metadata": {},
   "outputs": [],
   "source": []
  },
  {
   "cell_type": "markdown",
   "id": "c2dc259e",
   "metadata": {},
   "source": [
    "### 8. Create a generator to cycle through a given list indefinitely."
   ]
  },
  {
   "cell_type": "code",
   "execution_count": null,
   "id": "abbb8c2d",
   "metadata": {},
   "outputs": [],
   "source": []
  },
  {
   "cell_type": "markdown",
   "id": "633bc37c",
   "metadata": {},
   "source": [
    "### 9. Create a generator that yields cumulative sum of a list (e.g., [1,2,3] → 1,3,6)."
   ]
  },
  {
   "cell_type": "code",
   "execution_count": null,
   "id": "1c3b7ebf",
   "metadata": {},
   "outputs": [],
   "source": []
  },
  {
   "cell_type": "markdown",
   "id": "e6c8bfce",
   "metadata": {},
   "source": [
    "### 10. Create a generator that filters out vowels from a given string."
   ]
  },
  {
   "cell_type": "code",
   "execution_count": null,
   "id": "37728a84",
   "metadata": {},
   "outputs": [],
   "source": []
  }
 ],
 "metadata": {
  "language_info": {
   "name": "python"
  }
 },
 "nbformat": 4,
 "nbformat_minor": 5
}
