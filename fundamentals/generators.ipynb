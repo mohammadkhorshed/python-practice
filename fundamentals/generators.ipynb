{
 "cells": [
  {
   "cell_type": "markdown",
   "id": "9ad9d048",
   "metadata": {},
   "source": [
    "# Python Generators Practice\n",
    "\n",
    "This notebook contains **10 exercises** on **Python generators**, from basic syntax to advanced use cases.\n",
    "\n",
    "💡 Generators are memory-efficient and useful for handling large datasets or streams of data.\n",
    "\n",
    "✅ The problems were solved through my own efforts.\n",
    "\n",
    "---"
   ]
  },
  {
   "cell_type": "markdown",
   "id": "287bbc48",
   "metadata": {},
   "source": [
    "### 1. Create a generator that yields numbers from 1 to 10."
   ]
  },
  {
   "cell_type": "code",
   "execution_count": 4,
   "id": "d243b818",
   "metadata": {},
   "outputs": [
    {
     "name": "stdout",
     "output_type": "stream",
     "text": [
      "1 2 3 4 5 6 7 8 9 10 "
     ]
    }
   ],
   "source": [
    "def nums_up_to_10():\n",
    "    for n in range(1, 11):\n",
    "        yield n\n",
    "\n",
    "gen = nums_up_to_10()\n",
    "for num in gen:\n",
    "    print(num, end=' ')"
   ]
  },
  {
   "cell_type": "markdown",
   "id": "b8cd02bc",
   "metadata": {},
   "source": [
    "### 2. Create a generator that yields even numbers up to a given number."
   ]
  },
  {
   "cell_type": "code",
   "execution_count": 6,
   "id": "95bc36b9",
   "metadata": {},
   "outputs": [
    {
     "name": "stdout",
     "output_type": "stream",
     "text": [
      "0 2 4 6 8 10 12 14 16 18 20 "
     ]
    }
   ],
   "source": [
    "def even_num(max_limit):\n",
    "    for n in range(max_limit + 1):\n",
    "        if n % 2 == 0:\n",
    "            yield n\n",
    "\n",
    "for num in even_num(20):\n",
    "    print(num, end=' ')"
   ]
  },
  {
   "cell_type": "markdown",
   "id": "8b05dfce",
   "metadata": {},
   "source": [
    "### 3. Create a generator that yields Fibonacci numbers up to a certain count."
   ]
  },
  {
   "cell_type": "code",
   "execution_count": 9,
   "id": "0fa822d5",
   "metadata": {},
   "outputs": [
    {
     "name": "stdout",
     "output_type": "stream",
     "text": [
      "1 1 2 3 5 8 13 21 34 55 "
     ]
    }
   ],
   "source": [
    "def fibonacci(max_count):\n",
    "    a, b = 1, 1\n",
    "    for _ in range(max_count):\n",
    "        yield a\n",
    "        a, b = b, a + b\n",
    "\n",
    "for n in fibonacci(10):\n",
    "    print(n, end=' ')"
   ]
  },
  {
   "cell_type": "markdown",
   "id": "f6870dd4",
   "metadata": {},
   "source": [
    "### 4. Write a generator expression that returns the square of numbers in a list."
   ]
  },
  {
   "cell_type": "code",
   "execution_count": 11,
   "id": "9e2bb6cc",
   "metadata": {},
   "outputs": [
    {
     "name": "stdout",
     "output_type": "stream",
     "text": [
      "1 4 9 16 25 "
     ]
    }
   ],
   "source": [
    "numbers = [1, 2, 3, 4, 5]\n",
    "\n",
    "gen = (n**2 for n in numbers)\n",
    "for num in gen:\n",
    "    print(num, end=' ')"
   ]
  },
  {
   "cell_type": "markdown",
   "id": "f04a269f",
   "metadata": {},
   "source": [
    "### 5. Create a generator to yield characters in a string one by one."
   ]
  },
  {
   "cell_type": "code",
   "execution_count": 12,
   "id": "98e73222",
   "metadata": {},
   "outputs": [
    {
     "name": "stdout",
     "output_type": "stream",
     "text": [
      "P\n",
      "y\n",
      "t\n",
      "h\n",
      "o\n",
      "n\n"
     ]
    }
   ],
   "source": [
    "def yield_chars(text):\n",
    "    for char in text:\n",
    "        yield char\n",
    "\n",
    "for char in yield_chars('Python'):\n",
    "    print(char)"
   ]
  },
  {
   "cell_type": "markdown",
   "id": "13a116d1",
   "metadata": {},
   "source": [
    "### 6. Write a generator that yields all prime numbers up to `n`."
   ]
  },
  {
   "cell_type": "code",
   "execution_count": null,
   "id": "b6d2b402",
   "metadata": {},
   "outputs": [],
   "source": []
  },
  {
   "cell_type": "markdown",
   "id": "cae6e8b4",
   "metadata": {},
   "source": [
    "### 7. Create a generator to read lines from a text file one at a time."
   ]
  },
  {
   "cell_type": "code",
   "execution_count": null,
   "id": "f71cb0fe",
   "metadata": {},
   "outputs": [],
   "source": []
  },
  {
   "cell_type": "markdown",
   "id": "c2dc259e",
   "metadata": {},
   "source": [
    "### 8. Create a generator to cycle through a given list indefinitely."
   ]
  },
  {
   "cell_type": "code",
   "execution_count": null,
   "id": "abbb8c2d",
   "metadata": {},
   "outputs": [],
   "source": []
  },
  {
   "cell_type": "markdown",
   "id": "633bc37c",
   "metadata": {},
   "source": [
    "### 9. Create a generator that yields cumulative sum of a list (e.g., [1,2,3] → 1,3,6)."
   ]
  },
  {
   "cell_type": "code",
   "execution_count": null,
   "id": "1c3b7ebf",
   "metadata": {},
   "outputs": [],
   "source": []
  },
  {
   "cell_type": "markdown",
   "id": "e6c8bfce",
   "metadata": {},
   "source": [
    "### 10. Create a generator that filters out vowels from a given string."
   ]
  },
  {
   "cell_type": "code",
   "execution_count": null,
   "id": "37728a84",
   "metadata": {},
   "outputs": [],
   "source": []
  }
 ],
 "metadata": {
  "kernelspec": {
   "display_name": "Python 3",
   "language": "python",
   "name": "python3"
  },
  "language_info": {
   "codemirror_mode": {
    "name": "ipython",
    "version": 3
   },
   "file_extension": ".py",
   "mimetype": "text/x-python",
   "name": "python",
   "nbconvert_exporter": "python",
   "pygments_lexer": "ipython3",
   "version": "3.13.3"
  }
 },
 "nbformat": 4,
 "nbformat_minor": 5
}
