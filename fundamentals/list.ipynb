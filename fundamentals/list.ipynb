{
 "cells": [
  {
   "cell_type": "markdown",
   "id": "25fb56f7",
   "metadata": {},
   "source": [
    "# Python List Practice (Intermediate to Advanced)\n",
    "\n",
    "This notebook contains 30 exercises covering everything you need to know about Python lists — from basic usage to advanced methods and list comprehensions.\n",
    "\n",
    "🔹 Each problem is designed by ChatGPT to help me build mastery over list operations, performance tips, and Pythonic techniques.\n",
    "\n",
    "🔹 The problems were solved through my own efforts.\n",
    "\n",
    "---"
   ]
  },
  {
   "cell_type": "markdown",
   "id": "84c9f957",
   "metadata": {},
   "source": [
    "1. Create a list of integers from 1 to 10 using a loop and then using list comprehension."
   ]
  },
  {
   "cell_type": "code",
   "execution_count": 2,
   "id": "7a181b8d",
   "metadata": {},
   "outputs": [
    {
     "name": "stdout",
     "output_type": "stream",
     "text": [
      "[1, 2, 3, 4, 5, 6, 7, 8, 9, 10]\n"
     ]
    }
   ],
   "source": [
    "# Using loop\n",
    "\n",
    "lst = []\n",
    "\n",
    "for n in range(1, 11):\n",
    "    lst.append(n)\n",
    "\n",
    "print(lst)"
   ]
  },
  {
   "cell_type": "code",
   "execution_count": 7,
   "id": "233f483e",
   "metadata": {},
   "outputs": [
    {
     "name": "stdout",
     "output_type": "stream",
     "text": [
      "[1, 2, 3, 4, 5, 6, 7, 8, 9, 10]\n"
     ]
    }
   ],
   "source": [
    "# Using list comprehension\n",
    "\n",
    "lst = [n for n in range(1, 11)]\n",
    "\n",
    "print(lst)"
   ]
  },
  {
   "cell_type": "markdown",
   "id": "b2e85743",
   "metadata": {},
   "source": [
    "2. Find the sum and average of a list of numbers."
   ]
  },
  {
   "cell_type": "code",
   "execution_count": 127,
   "id": "5794e801",
   "metadata": {},
   "outputs": [
    {
     "name": "stdout",
     "output_type": "stream",
     "text": [
      "Sum: 54\n",
      "Average: 6.75\n"
     ]
    }
   ],
   "source": [
    "lst = [5, 2, 7, 13, 6, 10, 3, 8]\n",
    "\n",
    "lst_sum = sum(lst)\n",
    "\n",
    "lst_avg = lst_sum / len(lst) if lst else 0\n",
    "\n",
    "print(f'Sum: {lst_sum}\\nAverage: {lst_avg}')"
   ]
  },
  {
   "cell_type": "markdown",
   "id": "9e59a8c3",
   "metadata": {},
   "source": [
    "3. Remove all duplicates from a list while maintaining order."
   ]
  },
  {
   "cell_type": "code",
   "execution_count": 129,
   "id": "497a04ad",
   "metadata": {},
   "outputs": [
    {
     "name": "stdout",
     "output_type": "stream",
     "text": [
      "[5, 2, 7, 10, 6, 3]\n"
     ]
    }
   ],
   "source": [
    "#solution-1\n",
    "\n",
    "lst = [5, 2, 7, 10, 6, 10, 3, 7]\n",
    "seen = set()\n",
    "unique_lst= []\n",
    "\n",
    "for item in lst:\n",
    "    if item not in seen:\n",
    "        seen.add(item)\n",
    "        unique_lst.append(item)\n",
    "\n",
    "lst = unique_lst.copy()\n",
    "\n",
    "print(lst)\n",
    "\n"
   ]
  },
  {
   "cell_type": "code",
   "execution_count": 131,
   "id": "deacde5d",
   "metadata": {},
   "outputs": [
    {
     "name": "stdout",
     "output_type": "stream",
     "text": [
      "[5, 2, 7, 10, 6, 3]\n"
     ]
    }
   ],
   "source": [
    "#solution-2\n",
    "\n",
    "lst = [5, 2, 7, 10, 6, 10, 3, 7]\n",
    "\n",
    "unique_lst = list(dict.fromkeys(lst))\n",
    "\n",
    "print(unique_lst)"
   ]
  },
  {
   "cell_type": "markdown",
   "id": "3db04fa1",
   "metadata": {},
   "source": [
    "4. Sort a list of integers in descending order using the built-in `sort()` method."
   ]
  },
  {
   "cell_type": "code",
   "execution_count": 132,
   "id": "0f429073",
   "metadata": {},
   "outputs": [
    {
     "name": "stdout",
     "output_type": "stream",
     "text": [
      "[10, 7, 6, 5, 3, 2]\n"
     ]
    }
   ],
   "source": [
    "lst = [5, 2, 7, 10, 6, 3]\n",
    "\n",
    "lst.sort(reverse = True)\n",
    "\n",
    "print(lst)"
   ]
  },
  {
   "cell_type": "markdown",
   "id": "54c867fe",
   "metadata": {},
   "source": [
    "5. Create a list of squares of even numbers from 0 to 20 using list comprehension."
   ]
  },
  {
   "cell_type": "code",
   "execution_count": 15,
   "id": "6a1e8a97",
   "metadata": {},
   "outputs": [
    {
     "name": "stdout",
     "output_type": "stream",
     "text": [
      "[0, 4, 16, 36, 64, 100, 144, 196, 256, 324, 400]\n"
     ]
    }
   ],
   "source": [
    "lst = [n * n for n in range(21) if n % 2 == 0]\n",
    "\n",
    "print(lst)"
   ]
  },
  {
   "cell_type": "markdown",
   "id": "0402bb56",
   "metadata": {},
   "source": [
    "6. Write a function that flattens a nested list (e.g., [[1,2],[3,4]] → [1,2,3,4])."
   ]
  },
  {
   "cell_type": "code",
   "execution_count": 133,
   "id": "1b108c24",
   "metadata": {},
   "outputs": [
    {
     "data": {
      "text/plain": [
       "[2, 3, 4, 5, 6, 7]"
      ]
     },
     "execution_count": 133,
     "metadata": {},
     "output_type": "execute_result"
    }
   ],
   "source": [
    "def flatten_nested_list(lst: list):\n",
    "    flattened_lst = []\n",
    "    for item in lst:\n",
    "        if isinstance(item, list):\n",
    "            flattened_lst.extend(flatten_nested_list(item))\n",
    "        else:\n",
    "            flattened_lst.append(item)\n",
    "    return flattened_lst\n",
    "\n",
    "nested_lst = [2, [3, 4], 5, [6, 7]]\n",
    "\n",
    "flatten_nested_list(nested_lst)\n"
   ]
  },
  {
   "cell_type": "markdown",
   "id": "9bf846fc",
   "metadata": {},
   "source": [
    "7. Given a list of numbers, return a list with only the even values using filter or comprehension."
   ]
  },
  {
   "cell_type": "code",
   "execution_count": 29,
   "id": "e306a220",
   "metadata": {},
   "outputs": [
    {
     "name": "stdout",
     "output_type": "stream",
     "text": [
      "[2, 10, 6]\n"
     ]
    }
   ],
   "source": [
    "lst = [5, 2, 7, 10, 6, 3]\n",
    "\n",
    "even_list = [i for i in lst if i % 2 == 0]\n",
    "\n",
    "print(even_list)"
   ]
  },
  {
   "cell_type": "markdown",
   "id": "c3273f9a",
   "metadata": {},
   "source": [
    "8. Rotate a list to the right by k steps (e.g., [1,2,3,4,5] → [4,5,1,2,3] for k=2)."
   ]
  },
  {
   "cell_type": "code",
   "execution_count": null,
   "id": "319a31e1",
   "metadata": {},
   "outputs": [
    {
     "data": {
      "text/plain": [
       "[4, 5, 1, 2, 3]"
      ]
     },
     "execution_count": 32,
     "metadata": {},
     "output_type": "execute_result"
    }
   ],
   "source": [
    "# Solution-1: using loop\n",
    "\n",
    "lst = [1, 2, 3, 4, 5]\n",
    "\n",
    "for i in range(2):\n",
    "    last_item = lst.pop()\n",
    "    lst.insert(0, last_item)\n",
    "lst"
   ]
  },
  {
   "cell_type": "code",
   "execution_count": 36,
   "id": "f757aad4",
   "metadata": {},
   "outputs": [
    {
     "data": {
      "text/plain": [
       "[4, 5, 1, 2, 3]"
      ]
     },
     "execution_count": 36,
     "metadata": {},
     "output_type": "execute_result"
    }
   ],
   "source": [
    "# Solution-2: by slicing\n",
    "\n",
    "lst = [1, 2, 3, 4, 5]\n",
    "k = 2\n",
    "\n",
    "k = k % len(lst) #ensuring k < length of list\n",
    "lst = lst[-k:] + lst[:-k]\n",
    "\n",
    "lst"
   ]
  },
  {
   "cell_type": "markdown",
   "id": "ef7f7a4d",
   "metadata": {},
   "source": [
    "9. Find the second largest number in a list with using `max()` or sorting."
   ]
  },
  {
   "cell_type": "code",
   "execution_count": 37,
   "id": "c77247b1",
   "metadata": {},
   "outputs": [
    {
     "name": "stdout",
     "output_type": "stream",
     "text": [
      "10\n"
     ]
    }
   ],
   "source": [
    "lst = [5, 2, 7, 10, 6, 3]\n",
    "\n",
    "largest_num = max(lst)\n",
    "\n",
    "print(largest_num)"
   ]
  },
  {
   "cell_type": "markdown",
   "id": "b1c9af1a",
   "metadata": {},
   "source": [
    "10. Count the occurrences of each element in a list and return as a dictionary."
   ]
  },
  {
   "cell_type": "code",
   "execution_count": 37,
   "id": "947c63fe",
   "metadata": {},
   "outputs": [
    {
     "name": "stdout",
     "output_type": "stream",
     "text": [
      "{5: 2, 7: 2, 2: 2, 1: 3, 9: 1, 4: 2}\n"
     ]
    }
   ],
   "source": [
    "lst = [5, 7, 2, 1, 5, 1, 7, 9, 4, 1, 2, 4]\n",
    "\n",
    "freq = {}\n",
    "\n",
    "for ele in lst:\n",
    "    freq[ele] = freq.get(ele, 0) + 1\n",
    "\n",
    "print(freq)"
   ]
  },
  {
   "cell_type": "markdown",
   "id": "8d755516",
   "metadata": {},
   "source": [
    "11. Remove all falsy values (`None`, `0`, `False`, `''`) from a list."
   ]
  },
  {
   "cell_type": "code",
   "execution_count": 24,
   "id": "3d372fdc",
   "metadata": {},
   "outputs": [
    {
     "name": "stdout",
     "output_type": "stream",
     "text": [
      "[True, 1, 5, 'Hello', 2, 'Python', 10]\n"
     ]
    }
   ],
   "source": [
    "lst = [True, 1, '', 5, 'Hello', None, 2, False, 'Python', 0, 10]\n",
    "\n",
    "new_lst = [item for item in lst if bool(item)]\n",
    "print(new_lst)"
   ]
  },
  {
   "cell_type": "markdown",
   "id": "bec1046f",
   "metadata": {},
   "source": [
    "12. Reverse a list in three different way."
   ]
  },
  {
   "cell_type": "code",
   "execution_count": 23,
   "id": "11d7d79c",
   "metadata": {},
   "outputs": [
    {
     "name": "stdout",
     "output_type": "stream",
     "text": [
      "[9, 1, 12, 8, 3, 5]\n"
     ]
    }
   ],
   "source": [
    "#solution-1\n",
    "\n",
    "lst = [5, 3, 8, 12, 1, 9]\n",
    "\n",
    "reversed_lst = lst[::-1]\n",
    "print(reversed_lst)"
   ]
  },
  {
   "cell_type": "code",
   "execution_count": null,
   "id": "206bebae",
   "metadata": {},
   "outputs": [
    {
     "name": "stdout",
     "output_type": "stream",
     "text": [
      "[9, 1, 12, 8, 3, 5]\n"
     ]
    }
   ],
   "source": [
    "#solution-2\n",
    "\n",
    "lst = [5, 3, 8, 12, 1, 9]\n",
    "\n",
    "lst.reverse()\n",
    "print(lst)\n"
   ]
  },
  {
   "cell_type": "code",
   "execution_count": null,
   "id": "12a9c682",
   "metadata": {},
   "outputs": [
    {
     "data": {
      "text/plain": [
       "[9, 1, 12, 8, 3, 5]"
      ]
     },
     "execution_count": 27,
     "metadata": {},
     "output_type": "execute_result"
    }
   ],
   "source": [
    "#solution-3\n",
    "\n",
    "lst = [5, 3, 8, 12, 1, 9]\n",
    "reversed_lst = []\n",
    "\n",
    "for item in lst:\n",
    "    new_lst.insert(0, item)\n",
    "\n",
    "reversed_lst"
   ]
  },
  {
   "cell_type": "code",
   "execution_count": 29,
   "id": "d35fa6a5",
   "metadata": {},
   "outputs": [
    {
     "data": {
      "text/plain": [
       "[9, 1, 12, 8, 3, 5]"
      ]
     },
     "execution_count": 29,
     "metadata": {},
     "output_type": "execute_result"
    }
   ],
   "source": [
    "#solution-4\n",
    "\n",
    "lst = [5, 3, 8, 12, 1, 9]\n",
    "reversed_lst = []\n",
    "\n",
    "for i in range(1, len(lst)+1):\n",
    "    reversed_lst.append(lst[-i])\n",
    "\n",
    "reversed_lst"
   ]
  },
  {
   "cell_type": "markdown",
   "id": "f9c2df01",
   "metadata": {},
   "source": [
    "13. Partition a list into sublists of equal size n (e.g., [1,2,3,4] into [[1,2],[3,4]])."
   ]
  },
  {
   "cell_type": "code",
   "execution_count": 40,
   "id": "160ecfb1",
   "metadata": {},
   "outputs": [
    {
     "data": {
      "text/plain": [
       "[[1, 2], [3, 4], [5, 6], [7, 8]]"
      ]
     },
     "execution_count": 40,
     "metadata": {},
     "output_type": "execute_result"
    }
   ],
   "source": [
    "def partition_list(lst, n):\n",
    "    return [lst[i:i+n] for i in range(0, len(lst), n)]\n",
    "\n",
    "my_lst = [1, 2, 3, 4, 5, 6, 7, 8]\n",
    "partition_list(my_lst, 2)"
   ]
  },
  {
   "cell_type": "markdown",
   "id": "90e4b415",
   "metadata": {},
   "source": [
    "14. Find all indices of a given element in a list."
   ]
  },
  {
   "cell_type": "code",
   "execution_count": 45,
   "id": "abb5cfbb",
   "metadata": {},
   "outputs": [
    {
     "name": "stdout",
     "output_type": "stream",
     "text": [
      "[0, 2, 4]\n"
     ]
    }
   ],
   "source": [
    "# solution-1\n",
    "\n",
    "lst = [8, 3, 8, 12, 8, 9]\n",
    "ele = 8\n",
    "indices = []\n",
    "\n",
    "for i in range(len(lst)):\n",
    "    if lst[i] == ele:\n",
    "        indices.append(i)\n",
    "print(indices)"
   ]
  },
  {
   "cell_type": "code",
   "execution_count": 46,
   "id": "6b7f7b27",
   "metadata": {},
   "outputs": [
    {
     "name": "stdout",
     "output_type": "stream",
     "text": [
      "[0, 2, 4]\n"
     ]
    }
   ],
   "source": [
    "# solution-2\n",
    "\n",
    "lst = [8, 3, 8, 12, 8, 9]\n",
    "ele = 8\n",
    "\n",
    "print([i for i in range(len(lst)) if lst[i] == ele])"
   ]
  },
  {
   "cell_type": "code",
   "execution_count": null,
   "id": "978b48fa",
   "metadata": {},
   "outputs": [
    {
     "name": "stdout",
     "output_type": "stream",
     "text": [
      "[0, 2, 4]\n"
     ]
    }
   ],
   "source": [
    "# solution-3\n",
    "\n",
    "lst = [8, 3, 8, 12, 8, 9]\n",
    "ele = 8\n",
    "\n",
    "print([i for i, x in enumerate(lst) if x == ele])"
   ]
  },
  {
   "cell_type": "markdown",
   "id": "9ed56c28",
   "metadata": {},
   "source": [
    "15. Create a list from a string, removing all vowels."
   ]
  },
  {
   "cell_type": "code",
   "execution_count": 53,
   "id": "89e10876",
   "metadata": {},
   "outputs": [
    {
     "name": "stdout",
     "output_type": "stream",
     "text": [
      "['d', 't', 's', 't', 'h', 'n', 'w', 'l']\n"
     ]
    }
   ],
   "source": [
    "text = \"Data is the new oil\"\n",
    "vowel_set = {'a', 'e', 'i', 'o', 'u'}\n",
    "\n",
    "lst = [char for char in text.lower() if char not in vowel_set and char != ' ']\n",
    "\n",
    "print(lst)"
   ]
  },
  {
   "cell_type": "markdown",
   "id": "797d4b3f",
   "metadata": {},
   "source": [
    "16. Merge two sorted lists into a single sorted list without using `+` or `extend()`."
   ]
  },
  {
   "cell_type": "code",
   "execution_count": 59,
   "id": "ce74f4ab",
   "metadata": {},
   "outputs": [
    {
     "name": "stdout",
     "output_type": "stream",
     "text": [
      "[0, 1, 2, 3, 4, 5, 6, 7, 8, 9]\n"
     ]
    }
   ],
   "source": [
    "lst1 = [0, 2, 4, 6, 8]\n",
    "lst2 = [1, 3, 5, 7, 9]\n",
    "\n",
    "for i in lst2:\n",
    "    lst1.append(i)\n",
    "lst1.sort()\n",
    "print(lst1)"
   ]
  },
  {
   "cell_type": "markdown",
   "id": "2827dddf",
   "metadata": {},
   "source": [
    "17. Swap the first and last elements of a list."
   ]
  },
  {
   "cell_type": "code",
   "execution_count": null,
   "id": "1dfa0dfb",
   "metadata": {},
   "outputs": [
    {
     "name": "stdout",
     "output_type": "stream",
     "text": [
      "[5, 2, 3, 4, 1]\n"
     ]
    }
   ],
   "source": [
    "lst = [1, 2, 3, 4, 5]\n",
    "\n",
    "lst[0], lst[-1] = lst[-1], lst[0]\n",
    "\n",
    "print(lst)"
   ]
  },
  {
   "cell_type": "markdown",
   "id": "f9a5d229",
   "metadata": {},
   "source": [
    "18. Generate a list of tuples (index, value) from a list."
   ]
  },
  {
   "cell_type": "code",
   "execution_count": 65,
   "id": "d8000320",
   "metadata": {},
   "outputs": [
    {
     "name": "stdout",
     "output_type": "stream",
     "text": [
      "[(0, 'black'), (1, 'blue'), (2, 'red'), (3, 'green'), (4, 'white')]\n"
     ]
    }
   ],
   "source": [
    "colors = ['black', 'blue', 'red', 'green', 'white']\n",
    "\n",
    "tuple_lst = [(i, x) for i, x in enumerate(colors)]\n",
    "\n",
    "print(tuple_lst)"
   ]
  },
  {
   "cell_type": "markdown",
   "id": "b5c612ed",
   "metadata": {},
   "source": [
    "19. Remove items from a list that appear in another list."
   ]
  },
  {
   "cell_type": "code",
   "execution_count": null,
   "id": "9c57843e",
   "metadata": {},
   "outputs": [
    {
     "name": "stdout",
     "output_type": "stream",
     "text": [
      "[2, 4, 6, 8]\n"
     ]
    }
   ],
   "source": [
    "#solution-1\n",
    "\n",
    "lst1 = [0, 1, 3, 5, 7, 9]\n",
    "lst2 = [0, 2, 4, 5, 6, 8]\n",
    "\n",
    "for i in lst2:\n",
    "    if i in lst1:\n",
    "        lst2.remove(i)\n",
    "\n",
    "print(lst2)"
   ]
  },
  {
   "cell_type": "code",
   "execution_count": null,
   "id": "3dc87f38",
   "metadata": {},
   "outputs": [
    {
     "name": "stdout",
     "output_type": "stream",
     "text": [
      "[2, 4, 6, 8]\n"
     ]
    }
   ],
   "source": [
    "#solution-2\n",
    "\n",
    "lst1 = [0, 1, 3, 5, 7, 9]\n",
    "lst2 = [0, 2, 4, 5, 6, 8]\n",
    "\n",
    "lst = [i for i in lst2 if i not in lst1]\n",
    "\n",
    "print(lst)"
   ]
  },
  {
   "cell_type": "markdown",
   "id": "716370bd",
   "metadata": {},
   "source": [
    "20. Find the longest increasing subsequence in a list."
   ]
  },
  {
   "cell_type": "code",
   "execution_count": null,
   "id": "aff7075c",
   "metadata": {},
   "outputs": [
    {
     "data": {
      "text/plain": [
       "5"
      ]
     },
     "execution_count": 71,
     "metadata": {},
     "output_type": "execute_result"
    }
   ],
   "source": [
    "def lis(nums):\n",
    "    dp = [1] * len(nums)\n",
    "    for i in range(1, len(nums)):\n",
    "        for j in range(i):\n",
    "            if nums[i] > nums[j]:\n",
    "                dp[i] = max(dp[i], dp[j] + 1)\n",
    "    return max(dp)\n",
    "\n",
    "nums = [9, 5, 8, 3, 67, 12, 15, 7, 80]\n",
    "\n",
    "lis(nums)"
   ]
  },
  {
   "cell_type": "markdown",
   "id": "6c5d1248",
   "metadata": {},
   "source": [
    "21. Create a list of dictionary values from a list of dictionaries (e.g., extract 'name' key)."
   ]
  },
  {
   "cell_type": "code",
   "execution_count": 81,
   "id": "0704899d",
   "metadata": {},
   "outputs": [
    {
     "name": "stdout",
     "output_type": "stream",
     "text": [
      "['Mohammad', 'Rakin', 'Ayan']\n"
     ]
    }
   ],
   "source": [
    "people = [\n",
    "    {\"name\": \"Mohammad\", \"age\": 25},\n",
    "    {\"name\": \"Rakin\", \"age\": 30},\n",
    "    {\"name\": \"Ayan\", \"age\": 35}\n",
    "]\n",
    "\n",
    "names = [person['name'] for person in people]\n",
    "print(names)"
   ]
  },
  {
   "cell_type": "markdown",
   "id": "e2b7d711",
   "metadata": {},
   "source": [
    "22. Multiply all items in a list."
   ]
  },
  {
   "cell_type": "code",
   "execution_count": null,
   "id": "46cd8891",
   "metadata": {},
   "outputs": [
    {
     "name": "stdout",
     "output_type": "stream",
     "text": [
      "7293888000\n"
     ]
    }
   ],
   "source": [
    "#solution-1\n",
    "\n",
    "lst = [9, 5, 8, 3, 67, 12, 15, 7, 80]\n",
    "product = 1\n",
    "\n",
    "for n in lst:\n",
    "    product *= n\n",
    "\n",
    "print(product)"
   ]
  },
  {
   "cell_type": "code",
   "execution_count": 84,
   "id": "bf321f75",
   "metadata": {},
   "outputs": [
    {
     "name": "stdout",
     "output_type": "stream",
     "text": [
      "7293888000\n"
     ]
    }
   ],
   "source": [
    "#solution-2\n",
    "\n",
    "from math import prod\n",
    "\n",
    "lst = [9, 5, 8, 3, 67, 12, 15, 7, 80]\n",
    "\n",
    "product = prod(lst)\n",
    "print(product)"
   ]
  },
  {
   "cell_type": "markdown",
   "id": "54ef7ae1",
   "metadata": {},
   "source": [
    "23. Split a list into two lists: one with even and one with odd numbers."
   ]
  },
  {
   "cell_type": "code",
   "execution_count": 86,
   "id": "f7cae3ee",
   "metadata": {},
   "outputs": [
    {
     "name": "stdout",
     "output_type": "stream",
     "text": [
      "[8, 12, 80]\n",
      "[9, 5, 3, 67, 15, 7]\n"
     ]
    }
   ],
   "source": [
    "lst = [9, 5, 8, 3, 67, 12, 15, 7, 80]\n",
    "\n",
    "lst_even = [i for i in lst if i % 2 == 0]\n",
    "lst_odd = [i for i in lst if i % 2 != 0]\n",
    "\n",
    "print(lst_even)\n",
    "print(lst_odd)\n",
    "\n"
   ]
  },
  {
   "cell_type": "markdown",
   "id": "aef4af3b",
   "metadata": {},
   "source": [
    "24. Write a custom function to replicate `list.index()`."
   ]
  },
  {
   "cell_type": "code",
   "execution_count": 102,
   "id": "462c164d",
   "metadata": {},
   "outputs": [
    {
     "name": "stdout",
     "output_type": "stream",
     "text": [
      "6\n"
     ]
    }
   ],
   "source": [
    "lst = [9, 5, 8, 3, 67, 12, 15, 7, 80]\n",
    "\n",
    "def find_index(lst, val, start = 0, end = None):\n",
    "    if end is None:\n",
    "        end = len(lst)\n",
    "    for i in range(start, end):\n",
    "        if lst[i] == val:\n",
    "            return i\n",
    "    return None \n",
    "print(find_index(lst, 15))"
   ]
  },
  {
   "cell_type": "markdown",
   "id": "d691a887",
   "metadata": {},
   "source": [
    "25. Check if two lists are permutations of each other."
   ]
  },
  {
   "cell_type": "code",
   "execution_count": 106,
   "id": "a8ef915f",
   "metadata": {},
   "outputs": [
    {
     "name": "stdout",
     "output_type": "stream",
     "text": [
      "Two lists are permutations of each other\n"
     ]
    }
   ],
   "source": [
    "lst1 = [1, 7, 4, 9, 5]\n",
    "lst2 = [9, 4, 1, 5, 7]\n",
    "\n",
    "is_permutation = sorted(lst1) == sorted(lst2)\n",
    "\n",
    "print('Two lists are permutations of each other' if is_permutation else 'Two lists are not permutations of each other')"
   ]
  },
  {
   "cell_type": "markdown",
   "id": "29295ccd",
   "metadata": {},
   "source": [
    "26. Identify and return the most frequent item(s) in a list."
   ]
  },
  {
   "cell_type": "code",
   "execution_count": 118,
   "id": "c60977a0",
   "metadata": {},
   "outputs": [
    {
     "name": "stdout",
     "output_type": "stream",
     "text": [
      "5\n"
     ]
    }
   ],
   "source": [
    "lst = [5, 2, 8, 5, 9, 2, 5, 1]\n",
    "\n",
    "counts = {}\n",
    "\n",
    "for i in lst:\n",
    "    counts[i] = counts.get(i, 0) + 1\n",
    "\n",
    "max_count = max(counts.values())\n",
    "\n",
    "print(*[item for item, count in counts.items() if count == max_count])\n"
   ]
  },
  {
   "cell_type": "markdown",
   "id": "dbfd956a",
   "metadata": {},
   "source": [
    "27. Remove all strings with length less than 4 from a list."
   ]
  },
  {
   "cell_type": "code",
   "execution_count": null,
   "id": "4c98c6a1",
   "metadata": {},
   "outputs": [
    {
     "name": "stdout",
     "output_type": "stream",
     "text": [
      "['Hello', 'world', 'learning', 'data', 'science']\n"
     ]
    }
   ],
   "source": [
    "texts = ['Hello', 'world', 'i', 'am', 'learning', 'data', 'science']\n",
    "\n",
    "new_texts = [text for text in texts if len(text) >= 4]\n",
    "print(new_texts)"
   ]
  },
  {
   "cell_type": "markdown",
   "id": "2e245049",
   "metadata": {},
   "source": [
    "28. Zip three lists together and convert to list of dictionaries."
   ]
  },
  {
   "cell_type": "code",
   "execution_count": 126,
   "id": "445feadf",
   "metadata": {},
   "outputs": [
    {
     "name": "stdout",
     "output_type": "stream",
     "text": [
      "[{'name': 'Mohammad', 'age': 25}, {'name': 'Rakin', 'age': 30}, {'name': 'Ayan', 'age': 35}]\n"
     ]
    }
   ],
   "source": [
    "keys = ['name', 'age', 'city']\n",
    "names = ['Mohammad', 'Rakin', 'Ayan']\n",
    "ages = [25, 30, 35]\n",
    "\n",
    "people = [dict(zip(keys, values)) for values in zip(names, ages)]\n",
    "\n",
    "print(people)"
   ]
  },
  {
   "cell_type": "markdown",
   "id": "a49c6c39",
   "metadata": {},
   "source": [
    "29. Use list comprehension with if-else to create a list of 'even'/'odd' for numbers 1–20."
   ]
  },
  {
   "cell_type": "code",
   "execution_count": 122,
   "id": "1507f331",
   "metadata": {},
   "outputs": [
    {
     "name": "stdout",
     "output_type": "stream",
     "text": [
      "['odd', 'even', 'odd', 'even', 'odd', 'even', 'odd', 'even', 'odd', 'even', 'odd', 'even', 'odd', 'even', 'odd', 'even', 'odd', 'even', 'odd', 'even']\n"
     ]
    }
   ],
   "source": [
    "nums = ['even' if num % 2 == 0 else 'odd' for num in range(1, 21)]\n",
    "print(nums)"
   ]
  },
  {
   "cell_type": "markdown",
   "id": "bcf4ade8",
   "metadata": {},
   "source": [
    "30. Write a one-liner list comprehension to extract digits from a given string."
   ]
  },
  {
   "cell_type": "code",
   "execution_count": 135,
   "id": "84147c1f",
   "metadata": {},
   "outputs": [
    {
     "name": "stdout",
     "output_type": "stream",
     "text": [
      "['1', '7', '9', '5', '3', '0', '9', '6']\n"
     ]
    }
   ],
   "source": [
    "text = \"A1j79d5ff3i09u6d\"\n",
    "\n",
    "print([char for char in text if char.isdigit()])"
   ]
  },
  {
   "cell_type": "code",
   "execution_count": null,
   "id": "d09bcaa9",
   "metadata": {},
   "outputs": [],
   "source": []
  }
 ],
 "metadata": {
  "kernelspec": {
   "display_name": "Python 3",
   "language": "python",
   "name": "python3"
  },
  "language_info": {
   "codemirror_mode": {
    "name": "ipython",
    "version": 3
   },
   "file_extension": ".py",
   "mimetype": "text/x-python",
   "name": "python",
   "nbconvert_exporter": "python",
   "pygments_lexer": "ipython3",
   "version": "3.13.3"
  }
 },
 "nbformat": 4,
 "nbformat_minor": 5
}
