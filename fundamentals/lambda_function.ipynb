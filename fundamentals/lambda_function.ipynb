{
 "cells": [
  {
   "cell_type": "markdown",
   "id": "945adc95",
   "metadata": {},
   "source": [
    "# Python Lambda Function Practice\n",
    "\n",
    "This notebook contains **10 exercises** on Python's **lambda functions**, including real-world problems that incorporate `map()`, `filter()`, and `reduce()`.\n",
    "\n",
    "🧠 The problems range from basic syntax to more complex use cases.\n",
    "\n",
    "✅ The problems were solved through my own efforts.\n",
    "\n",
    "---"
   ]
  },
  {
   "cell_type": "markdown",
   "id": "29589f84",
   "metadata": {},
   "source": [
    "### 1. Use a lambda function to square all elements in a list using `map()`."
   ]
  },
  {
   "cell_type": "code",
   "execution_count": null,
   "id": "c888e85d",
   "metadata": {},
   "outputs": [],
   "source": []
  },
  {
   "cell_type": "markdown",
   "id": "f86577fe",
   "metadata": {},
   "source": [
    "### 2. Use a lambda function with `filter()` to extract only even numbers from a list."
   ]
  },
  {
   "cell_type": "code",
   "execution_count": null,
   "id": "f34591b9",
   "metadata": {},
   "outputs": [],
   "source": []
  },
  {
   "cell_type": "markdown",
   "id": "c217eb47",
   "metadata": {},
   "source": [
    "### 3. Use `reduce()` and a lambda function to multiply all numbers in a list."
   ]
  },
  {
   "cell_type": "code",
   "execution_count": null,
   "id": "8d0b308f",
   "metadata": {},
   "outputs": [],
   "source": []
  },
  {
   "cell_type": "markdown",
   "id": "a476daef",
   "metadata": {},
   "source": [
    "### 4. Sort a list of tuples based on the second element using a lambda function."
   ]
  },
  {
   "cell_type": "code",
   "execution_count": null,
   "id": "4178de49",
   "metadata": {},
   "outputs": [],
   "source": []
  },
  {
   "cell_type": "markdown",
   "id": "48076f91",
   "metadata": {},
   "source": [
    "### 5. Given a list of names, use `map()` and lambda to convert them to title case."
   ]
  },
  {
   "cell_type": "code",
   "execution_count": null,
   "id": "e90d6b34",
   "metadata": {},
   "outputs": [],
   "source": []
  },
  {
   "cell_type": "markdown",
   "id": "e9fd35a6",
   "metadata": {},
   "source": [
    "### 6. Use `filter()` and lambda to find names that start with a vowel."
   ]
  },
  {
   "cell_type": "code",
   "execution_count": null,
   "id": "0bf34bb0",
   "metadata": {},
   "outputs": [],
   "source": []
  },
  {
   "cell_type": "markdown",
   "id": "5fd8a0d8",
   "metadata": {},
   "source": [
    "### 7. Given a list of numbers, use `map()` and lambda to return True if the number is prime, else False."
   ]
  },
  {
   "cell_type": "code",
   "execution_count": null,
   "id": "b1341035",
   "metadata": {},
   "outputs": [],
   "source": []
  },
  {
   "cell_type": "markdown",
   "id": "efeb23fe",
   "metadata": {},
   "source": [
    "### 8. Use a lambda to sort a list of dictionaries by the 'age' key."
   ]
  },
  {
   "cell_type": "code",
   "execution_count": null,
   "id": "a4816a17",
   "metadata": {},
   "outputs": [],
   "source": []
  },
  {
   "cell_type": "markdown",
   "id": "422d748c",
   "metadata": {},
   "source": [
    "### 9. Create a list of tuples (x, x^2) for numbers 1 to 10 using `map()` and lambda."
   ]
  },
  {
   "cell_type": "code",
   "execution_count": null,
   "id": "7c18d807",
   "metadata": {},
   "outputs": [],
   "source": []
  },
  {
   "cell_type": "markdown",
   "id": "2e486e2a",
   "metadata": {},
   "source": [
    "### 10. Combine `map()` and `filter()` with lambda to double the odd numbers in a list."
   ]
  },
  {
   "cell_type": "code",
   "execution_count": null,
   "id": "45c2fbc2",
   "metadata": {},
   "outputs": [],
   "source": []
  }
 ],
 "metadata": {
  "language_info": {
   "name": "python"
  }
 },
 "nbformat": 4,
 "nbformat_minor": 5
}
