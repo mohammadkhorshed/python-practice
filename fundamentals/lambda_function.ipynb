{
 "cells": [
  {
   "cell_type": "markdown",
   "id": "945adc95",
   "metadata": {},
   "source": [
    "# Python Lambda Function Practice\n",
    "\n",
    "This notebook contains **10 exercises** on Python's **lambda functions**, including real-world problems that incorporate `map()`, `filter()`, and `reduce()`.\n",
    "\n",
    "🧠 The problems range from basic syntax to more complex use cases.\n",
    "\n",
    "✅ The problems were solved through my own efforts.\n",
    "\n",
    "---"
   ]
  },
  {
   "cell_type": "markdown",
   "id": "29589f84",
   "metadata": {},
   "source": [
    "### 1. Use a lambda function to square all elements in a list using `map()`."
   ]
  },
  {
   "cell_type": "code",
   "execution_count": 2,
   "id": "c888e85d",
   "metadata": {},
   "outputs": [
    {
     "name": "stdout",
     "output_type": "stream",
     "text": [
      "[1, 4, 9, 16, 25]\n"
     ]
    }
   ],
   "source": [
    "lst = [1, 2, 3, 4, 5]\n",
    "sq_ele = list(map(lambda x: x ** 2, lst))\n",
    "print(sq_ele)"
   ]
  },
  {
   "cell_type": "markdown",
   "id": "f86577fe",
   "metadata": {},
   "source": [
    "### 2. Use a lambda function with `filter()` to extract only even numbers from a list."
   ]
  },
  {
   "cell_type": "code",
   "execution_count": 3,
   "id": "f34591b9",
   "metadata": {},
   "outputs": [
    {
     "name": "stdout",
     "output_type": "stream",
     "text": [
      "[2, 4]\n"
     ]
    }
   ],
   "source": [
    "even_nums = list(filter(lambda x: x % 2 == 0, lst))\n",
    "print(even_nums)"
   ]
  },
  {
   "cell_type": "markdown",
   "id": "c217eb47",
   "metadata": {},
   "source": [
    "### 3. Use `reduce()` and a lambda function to multiply all numbers in a list."
   ]
  },
  {
   "cell_type": "code",
   "execution_count": 4,
   "id": "8d0b308f",
   "metadata": {},
   "outputs": [
    {
     "data": {
      "text/plain": [
       "120"
      ]
     },
     "execution_count": 4,
     "metadata": {},
     "output_type": "execute_result"
    }
   ],
   "source": [
    "from functools import reduce\n",
    "\n",
    "reduce(lambda x, y: x * y, lst)"
   ]
  },
  {
   "cell_type": "markdown",
   "id": "a476daef",
   "metadata": {},
   "source": [
    "### 4. Sort a list of tuples based on the second element using a lambda function."
   ]
  },
  {
   "cell_type": "code",
   "execution_count": 5,
   "id": "4178de49",
   "metadata": {},
   "outputs": [
    {
     "name": "stdout",
     "output_type": "stream",
     "text": [
      "[(6, 1), (4, 2), (1, 3), (5, 5), (0, 7), (8, 9)]\n"
     ]
    }
   ],
   "source": [
    "tpl_list = [(1, 3), (4, 2), (5, 5), (6, 1), (8, 9), (0, 7)]\n",
    "\n",
    "sorted_list = sorted(tpl_list, key= lambda x: x[1])\n",
    "print(sorted_list)"
   ]
  },
  {
   "cell_type": "markdown",
   "id": "48076f91",
   "metadata": {},
   "source": [
    "### 5. Given a list of names, use `map()` and lambda to convert them to title case."
   ]
  },
  {
   "cell_type": "code",
   "execution_count": 7,
   "id": "e90d6b34",
   "metadata": {},
   "outputs": [
    {
     "name": "stdout",
     "output_type": "stream",
     "text": [
      "['Eve', 'Jonas', 'Marry', 'July', 'Mohammad', 'Adam']\n"
     ]
    }
   ],
   "source": [
    "names = ['evE', 'jOnas', 'marRy', 'JULY', 'mohammad', 'adam']\n",
    "\n",
    "titled_names = list(map(lambda x: x.title(), names))\n",
    "print(titled_names)"
   ]
  },
  {
   "cell_type": "markdown",
   "id": "e9fd35a6",
   "metadata": {},
   "source": [
    "### 6. Use `filter()` and lambda to find names that start with a vowel."
   ]
  },
  {
   "cell_type": "code",
   "execution_count": 10,
   "id": "0bf34bb0",
   "metadata": {},
   "outputs": [
    {
     "name": "stdout",
     "output_type": "stream",
     "text": [
      "['Eve', 'Adam']\n"
     ]
    }
   ],
   "source": [
    "vowel_set = {'a', 'e', 'i', 'o', 'u'}\n",
    "vowel_names = list(filter(lambda x: x[0].lower() in vowel_set, titled_names))\n",
    "print(vowel_names)"
   ]
  },
  {
   "cell_type": "markdown",
   "id": "5fd8a0d8",
   "metadata": {},
   "source": [
    "### 7. Given a list of numbers, use `map()` and lambda to return True if the number is prime, else False."
   ]
  },
  {
   "cell_type": "code",
   "execution_count": 15,
   "id": "b1341035",
   "metadata": {},
   "outputs": [
    {
     "name": "stdout",
     "output_type": "stream",
     "text": [
      "[True, False, True, True, False, False, True, True, False, True, False]\n"
     ]
    }
   ],
   "source": [
    "nums = [2, 4, 7, 13, 15, 16, 17, 19, 20, 23, 25]\n",
    "\n",
    "print(list(map(lambda x: x > 1 and all(x % i != 0 for i in range(2, int(x ** 0.5) + 1)), nums)))"
   ]
  },
  {
   "cell_type": "markdown",
   "id": "efeb23fe",
   "metadata": {},
   "source": [
    "### 8. Use a lambda to sort a list of dictionaries by the 'age' key."
   ]
  },
  {
   "cell_type": "code",
   "execution_count": 8,
   "id": "a4816a17",
   "metadata": {},
   "outputs": [
    {
     "name": "stdout",
     "output_type": "stream",
     "text": [
      "[{'name': 'Tashfiq', 'age': 18}, {'name': 'Evan', 'age': 21}, {'name': 'Asif', 'age': 25}, {'name': 'Zafar', 'age': 29}]\n"
     ]
    }
   ],
   "source": [
    "dicts = [\n",
    "    {\n",
    "        'name'  : 'Asif',\n",
    "        'age'   : 25\n",
    "    },\n",
    "    {\n",
    "        'name'  : 'Tashfiq',\n",
    "        'age'   : 18\n",
    "    },\n",
    "    {\n",
    "        'name'  : 'Zafar',\n",
    "        'age'   : 29\n",
    "    },\n",
    "    {\n",
    "        'name'  : 'Evan',\n",
    "        'age'   : 21\n",
    "    }\n",
    "]\n",
    "\n",
    "sorted_dicts = sorted(dicts, key= lambda x: x['age'])\n",
    "print(sorted_dicts)"
   ]
  },
  {
   "cell_type": "markdown",
   "id": "422d748c",
   "metadata": {},
   "source": [
    "### 9. Create a list of tuples (x, x^2) for numbers 1 to 10 using `map()` and lambda."
   ]
  },
  {
   "cell_type": "code",
   "execution_count": 4,
   "id": "7c18d807",
   "metadata": {},
   "outputs": [
    {
     "name": "stdout",
     "output_type": "stream",
     "text": [
      "[(1, 1), (2, 4), (3, 9), (4, 16), (5, 25), (6, 36), (7, 49), (8, 64), (9, 81), (10, 100)]\n"
     ]
    }
   ],
   "source": [
    "num_list = list(map(lambda x: (x, x** 2), list(x for x in range(1, 11))))\n",
    "print(num_list)"
   ]
  },
  {
   "cell_type": "markdown",
   "id": "2e486e2a",
   "metadata": {},
   "source": [
    "### 10. Combine `map()` and `filter()` with lambda to double the odd numbers in a list."
   ]
  },
  {
   "cell_type": "code",
   "execution_count": 6,
   "id": "45c2fbc2",
   "metadata": {},
   "outputs": [
    {
     "name": "stdout",
     "output_type": "stream",
     "text": [
      "[6, 14, 2, 10, 18]\n"
     ]
    }
   ],
   "source": [
    "nums = [3, 4, 8, 7, 1, 5, 6, 9, 0]\n",
    "\n",
    "doubled_odd_nums = list(map(lambda x: x * 2, filter(lambda x: x % 2 == 1, nums)))\n",
    "print(doubled_odd_nums)"
   ]
  }
 ],
 "metadata": {
  "kernelspec": {
   "display_name": "Python 3",
   "language": "python",
   "name": "python3"
  },
  "language_info": {
   "codemirror_mode": {
    "name": "ipython",
    "version": 3
   },
   "file_extension": ".py",
   "mimetype": "text/x-python",
   "name": "python",
   "nbconvert_exporter": "python",
   "pygments_lexer": "ipython3",
   "version": "3.13.3"
  }
 },
 "nbformat": 4,
 "nbformat_minor": 5
}
